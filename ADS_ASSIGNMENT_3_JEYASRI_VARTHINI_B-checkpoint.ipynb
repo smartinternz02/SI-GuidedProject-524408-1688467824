{
 "cells": [
  {
   "cell_type": "markdown",
   "id": "0936cc40",
   "metadata": {},
   "source": [
    "# HOUSE PRICE PREDICTION"
   ]
  },
  {
   "cell_type": "markdown",
   "id": "7d8bca42",
   "metadata": {},
   "source": [
    "### 1. Importing required libraries"
   ]
  },
  {
   "cell_type": "code",
   "execution_count": 1,
   "id": "b37f7840",
   "metadata": {},
   "outputs": [],
   "source": [
    "import numpy as np\n",
    "import pandas as pd\n",
    "import matplotlib.pyplot as plt\n",
    "import seaborn as sns"
   ]
  },
  {
   "cell_type": "markdown",
   "id": "84d96edd",
   "metadata": {},
   "source": [
    "### 2. Loading the dataset"
   ]
  },
  {
   "cell_type": "code",
   "execution_count": 2,
   "id": "e5587d77",
   "metadata": {},
   "outputs": [],
   "source": [
    "data=pd.read_csv('Housing.csv')"
   ]
  },
  {
   "cell_type": "code",
   "execution_count": 3,
   "id": "cb020a81",
   "metadata": {},
   "outputs": [
    {
     "data": {
      "text/html": [
       "<div>\n",
       "<style scoped>\n",
       "    .dataframe tbody tr th:only-of-type {\n",
       "        vertical-align: middle;\n",
       "    }\n",
       "\n",
       "    .dataframe tbody tr th {\n",
       "        vertical-align: top;\n",
       "    }\n",
       "\n",
       "    .dataframe thead th {\n",
       "        text-align: right;\n",
       "    }\n",
       "</style>\n",
       "<table border=\"1\" class=\"dataframe\">\n",
       "  <thead>\n",
       "    <tr style=\"text-align: right;\">\n",
       "      <th></th>\n",
       "      <th>price</th>\n",
       "      <th>area</th>\n",
       "      <th>bedrooms</th>\n",
       "      <th>bathrooms</th>\n",
       "      <th>stories</th>\n",
       "      <th>mainroad</th>\n",
       "      <th>guestroom</th>\n",
       "      <th>basement</th>\n",
       "      <th>hotwaterheating</th>\n",
       "      <th>airconditioning</th>\n",
       "      <th>parking</th>\n",
       "      <th>furnishingstatus</th>\n",
       "    </tr>\n",
       "  </thead>\n",
       "  <tbody>\n",
       "    <tr>\n",
       "      <th>0</th>\n",
       "      <td>13300000</td>\n",
       "      <td>7420</td>\n",
       "      <td>4</td>\n",
       "      <td>2</td>\n",
       "      <td>3</td>\n",
       "      <td>yes</td>\n",
       "      <td>no</td>\n",
       "      <td>no</td>\n",
       "      <td>no</td>\n",
       "      <td>yes</td>\n",
       "      <td>2</td>\n",
       "      <td>furnished</td>\n",
       "    </tr>\n",
       "    <tr>\n",
       "      <th>1</th>\n",
       "      <td>12250000</td>\n",
       "      <td>8960</td>\n",
       "      <td>4</td>\n",
       "      <td>4</td>\n",
       "      <td>4</td>\n",
       "      <td>yes</td>\n",
       "      <td>no</td>\n",
       "      <td>no</td>\n",
       "      <td>no</td>\n",
       "      <td>yes</td>\n",
       "      <td>3</td>\n",
       "      <td>furnished</td>\n",
       "    </tr>\n",
       "    <tr>\n",
       "      <th>2</th>\n",
       "      <td>12250000</td>\n",
       "      <td>9960</td>\n",
       "      <td>3</td>\n",
       "      <td>2</td>\n",
       "      <td>2</td>\n",
       "      <td>yes</td>\n",
       "      <td>no</td>\n",
       "      <td>yes</td>\n",
       "      <td>no</td>\n",
       "      <td>no</td>\n",
       "      <td>2</td>\n",
       "      <td>semi-furnished</td>\n",
       "    </tr>\n",
       "    <tr>\n",
       "      <th>3</th>\n",
       "      <td>12215000</td>\n",
       "      <td>7500</td>\n",
       "      <td>4</td>\n",
       "      <td>2</td>\n",
       "      <td>2</td>\n",
       "      <td>yes</td>\n",
       "      <td>no</td>\n",
       "      <td>yes</td>\n",
       "      <td>no</td>\n",
       "      <td>yes</td>\n",
       "      <td>3</td>\n",
       "      <td>furnished</td>\n",
       "    </tr>\n",
       "    <tr>\n",
       "      <th>4</th>\n",
       "      <td>11410000</td>\n",
       "      <td>7420</td>\n",
       "      <td>4</td>\n",
       "      <td>1</td>\n",
       "      <td>2</td>\n",
       "      <td>yes</td>\n",
       "      <td>yes</td>\n",
       "      <td>yes</td>\n",
       "      <td>no</td>\n",
       "      <td>yes</td>\n",
       "      <td>2</td>\n",
       "      <td>furnished</td>\n",
       "    </tr>\n",
       "  </tbody>\n",
       "</table>\n",
       "</div>"
      ],
      "text/plain": [
       "      price  area  bedrooms  bathrooms  stories mainroad guestroom basement  \\\n",
       "0  13300000  7420         4          2        3      yes        no       no   \n",
       "1  12250000  8960         4          4        4      yes        no       no   \n",
       "2  12250000  9960         3          2        2      yes        no      yes   \n",
       "3  12215000  7500         4          2        2      yes        no      yes   \n",
       "4  11410000  7420         4          1        2      yes       yes      yes   \n",
       "\n",
       "  hotwaterheating airconditioning  parking furnishingstatus  \n",
       "0              no             yes        2        furnished  \n",
       "1              no             yes        3        furnished  \n",
       "2              no              no        2   semi-furnished  \n",
       "3              no             yes        3        furnished  \n",
       "4              no             yes        2        furnished  "
      ]
     },
     "execution_count": 3,
     "metadata": {},
     "output_type": "execute_result"
    }
   ],
   "source": [
    "data.head()"
   ]
  },
  {
   "cell_type": "code",
   "execution_count": 4,
   "id": "c39f335c",
   "metadata": {},
   "outputs": [
    {
     "data": {
      "text/html": [
       "<div>\n",
       "<style scoped>\n",
       "    .dataframe tbody tr th:only-of-type {\n",
       "        vertical-align: middle;\n",
       "    }\n",
       "\n",
       "    .dataframe tbody tr th {\n",
       "        vertical-align: top;\n",
       "    }\n",
       "\n",
       "    .dataframe thead th {\n",
       "        text-align: right;\n",
       "    }\n",
       "</style>\n",
       "<table border=\"1\" class=\"dataframe\">\n",
       "  <thead>\n",
       "    <tr style=\"text-align: right;\">\n",
       "      <th></th>\n",
       "      <th>price</th>\n",
       "      <th>area</th>\n",
       "      <th>bedrooms</th>\n",
       "      <th>bathrooms</th>\n",
       "      <th>stories</th>\n",
       "      <th>mainroad</th>\n",
       "      <th>guestroom</th>\n",
       "      <th>basement</th>\n",
       "      <th>hotwaterheating</th>\n",
       "      <th>airconditioning</th>\n",
       "      <th>parking</th>\n",
       "      <th>furnishingstatus</th>\n",
       "    </tr>\n",
       "  </thead>\n",
       "  <tbody>\n",
       "    <tr>\n",
       "      <th>540</th>\n",
       "      <td>1820000</td>\n",
       "      <td>3000</td>\n",
       "      <td>2</td>\n",
       "      <td>1</td>\n",
       "      <td>1</td>\n",
       "      <td>yes</td>\n",
       "      <td>no</td>\n",
       "      <td>yes</td>\n",
       "      <td>no</td>\n",
       "      <td>no</td>\n",
       "      <td>2</td>\n",
       "      <td>unfurnished</td>\n",
       "    </tr>\n",
       "    <tr>\n",
       "      <th>541</th>\n",
       "      <td>1767150</td>\n",
       "      <td>2400</td>\n",
       "      <td>3</td>\n",
       "      <td>1</td>\n",
       "      <td>1</td>\n",
       "      <td>no</td>\n",
       "      <td>no</td>\n",
       "      <td>no</td>\n",
       "      <td>no</td>\n",
       "      <td>no</td>\n",
       "      <td>0</td>\n",
       "      <td>semi-furnished</td>\n",
       "    </tr>\n",
       "    <tr>\n",
       "      <th>542</th>\n",
       "      <td>1750000</td>\n",
       "      <td>3620</td>\n",
       "      <td>2</td>\n",
       "      <td>1</td>\n",
       "      <td>1</td>\n",
       "      <td>yes</td>\n",
       "      <td>no</td>\n",
       "      <td>no</td>\n",
       "      <td>no</td>\n",
       "      <td>no</td>\n",
       "      <td>0</td>\n",
       "      <td>unfurnished</td>\n",
       "    </tr>\n",
       "    <tr>\n",
       "      <th>543</th>\n",
       "      <td>1750000</td>\n",
       "      <td>2910</td>\n",
       "      <td>3</td>\n",
       "      <td>1</td>\n",
       "      <td>1</td>\n",
       "      <td>no</td>\n",
       "      <td>no</td>\n",
       "      <td>no</td>\n",
       "      <td>no</td>\n",
       "      <td>no</td>\n",
       "      <td>0</td>\n",
       "      <td>furnished</td>\n",
       "    </tr>\n",
       "    <tr>\n",
       "      <th>544</th>\n",
       "      <td>1750000</td>\n",
       "      <td>3850</td>\n",
       "      <td>3</td>\n",
       "      <td>1</td>\n",
       "      <td>2</td>\n",
       "      <td>yes</td>\n",
       "      <td>no</td>\n",
       "      <td>no</td>\n",
       "      <td>no</td>\n",
       "      <td>no</td>\n",
       "      <td>0</td>\n",
       "      <td>unfurnished</td>\n",
       "    </tr>\n",
       "  </tbody>\n",
       "</table>\n",
       "</div>"
      ],
      "text/plain": [
       "       price  area  bedrooms  bathrooms  stories mainroad guestroom basement  \\\n",
       "540  1820000  3000         2          1        1      yes        no      yes   \n",
       "541  1767150  2400         3          1        1       no        no       no   \n",
       "542  1750000  3620         2          1        1      yes        no       no   \n",
       "543  1750000  2910         3          1        1       no        no       no   \n",
       "544  1750000  3850         3          1        2      yes        no       no   \n",
       "\n",
       "    hotwaterheating airconditioning  parking furnishingstatus  \n",
       "540              no              no        2      unfurnished  \n",
       "541              no              no        0   semi-furnished  \n",
       "542              no              no        0      unfurnished  \n",
       "543              no              no        0        furnished  \n",
       "544              no              no        0      unfurnished  "
      ]
     },
     "execution_count": 4,
     "metadata": {},
     "output_type": "execute_result"
    }
   ],
   "source": [
    "data.tail()"
   ]
  },
  {
   "cell_type": "code",
   "execution_count": 5,
   "id": "92a770da",
   "metadata": {},
   "outputs": [
    {
     "name": "stdout",
     "output_type": "stream",
     "text": [
      "<class 'pandas.core.frame.DataFrame'>\n",
      "RangeIndex: 545 entries, 0 to 544\n",
      "Data columns (total 12 columns):\n",
      " #   Column            Non-Null Count  Dtype \n",
      "---  ------            --------------  ----- \n",
      " 0   price             545 non-null    int64 \n",
      " 1   area              545 non-null    int64 \n",
      " 2   bedrooms          545 non-null    int64 \n",
      " 3   bathrooms         545 non-null    int64 \n",
      " 4   stories           545 non-null    int64 \n",
      " 5   mainroad          545 non-null    object\n",
      " 6   guestroom         545 non-null    object\n",
      " 7   basement          545 non-null    object\n",
      " 8   hotwaterheating   545 non-null    object\n",
      " 9   airconditioning   545 non-null    object\n",
      " 10  parking           545 non-null    int64 \n",
      " 11  furnishingstatus  545 non-null    object\n",
      "dtypes: int64(6), object(6)\n",
      "memory usage: 51.2+ KB\n"
     ]
    }
   ],
   "source": [
    "data.info()"
   ]
  },
  {
   "cell_type": "code",
   "execution_count": 6,
   "id": "c9e16256",
   "metadata": {},
   "outputs": [
    {
     "data": {
      "text/plain": [
       "Index(['price', 'area', 'bedrooms', 'bathrooms', 'stories', 'mainroad',\n",
       "       'guestroom', 'basement', 'hotwaterheating', 'airconditioning',\n",
       "       'parking', 'furnishingstatus'],\n",
       "      dtype='object')"
      ]
     },
     "execution_count": 6,
     "metadata": {},
     "output_type": "execute_result"
    }
   ],
   "source": [
    "data.columns"
   ]
  },
  {
   "cell_type": "markdown",
   "id": "2222a381",
   "metadata": {},
   "source": [
    "### 3. Visualization - Univariate Analysis"
   ]
  },
  {
   "cell_type": "code",
   "execution_count": 7,
   "id": "6a0f62d1",
   "metadata": {},
   "outputs": [
    {
     "data": {
      "text/plain": [
       "<AxesSubplot:xlabel='area', ylabel='Count'>"
      ]
     },
     "execution_count": 7,
     "metadata": {},
     "output_type": "execute_result"
    },
    {
     "data": {
      "image/png": "[encoded data removed]",
      "text/plain": [
       "<Figure size 640x480 with 1 Axes>"
      ]
     },
     "metadata": {},
     "output_type": "display_data"
    }
   ],
   "source": [
    "# Histogram\n",
    "sns.histplot(data['area'])"
   ]
  },
  {
   "cell_type": "code",
   "execution_count": 8,
   "id": "080fd1e1",
   "metadata": {},
   "outputs": [
    {
     "name": "stderr",
     "output_type": "stream",
     "text": [
      "C:\\ProgramData\\Anaconda3\\lib\\site-packages\\seaborn\\_decorators.py:36: FutureWarning: Pass the following variable as a keyword arg: x. From version 0.12, the only valid positional argument will be `data`, and passing other arguments without an explicit keyword will result in an error or misinterpretation.\n",
      "  warnings.warn(\n"
     ]
    },
    {
     "data": {
      "text/plain": [
       "<AxesSubplot:xlabel='mainroad', ylabel='count'>"
      ]
     },
     "execution_count": 8,
     "metadata": {},
     "output_type": "execute_result"
    },
    {
     "data": {
      "image/png": "[encoded data removed]",
      "text/plain": [
       "<Figure size 640x480 with 1 Axes>"
      ]
     },
     "metadata": {},
     "output_type": "display_data"
    }
   ],
   "source": [
    "# Bar Chart\n",
    "sns.countplot(data['mainroad'])"
   ]
  },
  {
   "cell_type": "code",
   "execution_count": 9,
   "id": "d6241297",
   "metadata": {},
   "outputs": [
    {
     "data": {
      "image/png": "[encoded data removed]",
      "text/plain": [
       "<Figure size 640x480 with 1 Axes>"
      ]
     },
     "metadata": {},
     "output_type": "display_data"
    }
   ],
   "source": [
    "# Pie Chart\n",
    "x = data['furnishingstatus'].value_counts()\n",
    "plt.pie(x.values,labels=x.index)\n",
    "plt.show()"
   ]
  },
  {
   "cell_type": "code",
   "execution_count": 10,
   "id": "fefa6404",
   "metadata": {},
   "outputs": [
    {
     "name": "stderr",
     "output_type": "stream",
     "text": [
      "C:\\ProgramData\\Anaconda3\\lib\\site-packages\\seaborn\\distributions.py:2619: FutureWarning: `distplot` is a deprecated function and will be removed in a future version. Please adapt your code to use either `displot` (a figure-level function with similar flexibility) or `histplot` (an axes-level function for histograms).\n",
      "  warnings.warn(msg, FutureWarning)\n"
     ]
    },
    {
     "data": {
      "text/plain": [
       "<AxesSubplot:xlabel='area', ylabel='Density'>"
      ]
     },
     "execution_count": 10,
     "metadata": {},
     "output_type": "execute_result"
    },
    {
     "data": {
      "image/png": "[encoded data removed]",
      "text/plain": [
       "<Figure size 640x480 with 1 Axes>"
      ]
     },
     "metadata": {},
     "output_type": "display_data"
    }
   ],
   "source": [
    "# Distance Plot\n",
    "sns.distplot(data.area)"
   ]
  },
  {
   "cell_type": "markdown",
   "id": "fe86a545",
   "metadata": {},
   "source": [
    "### 3. Visualization - Bivariate Analysis"
   ]
  },
  {
   "cell_type": "markdown",
   "id": "3af22efd",
   "metadata": {},
   "source": [
    "#### Categorical VS Numerical"
   ]
  },
  {
   "cell_type": "code",
   "execution_count": 11,
   "id": "72e161e3",
   "metadata": {},
   "outputs": [
    {
     "data": {
      "text/plain": [
       "<AxesSubplot:xlabel='furnishingstatus', ylabel='area'>"
      ]
     },
     "execution_count": 11,
     "metadata": {},
     "output_type": "execute_result"
    },
    {
     "data": {
      "image/png": "[encoded data removed]",
      "text/plain": [
       "<Figure size 640x480 with 1 Axes>"
      ]
     },
     "metadata": {},
     "output_type": "display_data"
    }
   ],
   "source": [
    "# Bar Plot\n",
    "sns.barplot(x=data['furnishingstatus'], y=data['area'])"
   ]
  },
  {
   "cell_type": "markdown",
   "id": "a68e1438",
   "metadata": {},
   "source": [
    "#### Numerical VS Numerical"
   ]
  },
  {
   "cell_type": "code",
   "execution_count": 12,
   "id": "095879ae",
   "metadata": {},
   "outputs": [
    {
     "data": {
      "text/plain": [
       "<AxesSubplot:xlabel='bedrooms', ylabel='bathrooms'>"
      ]
     },
     "execution_count": 12,
     "metadata": {},
     "output_type": "execute_result"
    },
    {
     "data": {
      "image/png": "[encoded data removed]",
      "text/plain": [
       "<Figure size 640x480 with 1 Axes>"
      ]
     },
     "metadata": {},
     "output_type": "display_data"
    }
   ],
   "source": [
    "# Scatter Plot\n",
    "sns.scatterplot(x=data['bedrooms'],y=data['bathrooms'])"
   ]
  },
  {
   "cell_type": "code",
   "execution_count": 13,
   "id": "a1f4c33e",
   "metadata": {},
   "outputs": [
    {
     "name": "stderr",
     "output_type": "stream",
     "text": [
      "C:\\ProgramData\\Anaconda3\\lib\\site-packages\\seaborn\\_decorators.py:36: FutureWarning: Pass the following variables as keyword args: x, y. From version 0.12, the only valid positional argument will be `data`, and passing other arguments without an explicit keyword will result in an error or misinterpretation.\n",
      "  warnings.warn(\n"
     ]
    },
    {
     "data": {
      "text/plain": [
       "<seaborn.axisgrid.JointGrid at 0x1d66254e2b0>"
      ]
     },
     "execution_count": 13,
     "metadata": {},
     "output_type": "execute_result"
    },
    {
     "data": {
      "image/png": "[encoded data removed]",
      "text/plain": [
       "<Figure size 600x600 with 3 Axes>"
      ]
     },
     "metadata": {},
     "output_type": "display_data"
    }
   ],
   "source": [
    "# Join Plot\n",
    "sns.jointplot(data.bedrooms,data.bathrooms)"
   ]
  },
  {
   "cell_type": "markdown",
   "id": "440a0a2b",
   "metadata": {},
   "source": [
    "#### Categorical VS Categorical"
   ]
  },
  {
   "cell_type": "code",
   "execution_count": 14,
   "id": "79212ee5",
   "metadata": {},
   "outputs": [
    {
     "name": "stderr",
     "output_type": "stream",
     "text": [
      "C:\\ProgramData\\Anaconda3\\lib\\site-packages\\seaborn\\_decorators.py:36: FutureWarning: Pass the following variable as a keyword arg: x. From version 0.12, the only valid positional argument will be `data`, and passing other arguments without an explicit keyword will result in an error or misinterpretation.\n",
      "  warnings.warn(\n"
     ]
    },
    {
     "data": {
      "text/plain": [
       "<AxesSubplot:xlabel='mainroad', ylabel='count'>"
      ]
     },
     "execution_count": 14,
     "metadata": {},
     "output_type": "execute_result"
    },
    {
     "data": {
      "image/png": "[encoded data removed]",
      "text/plain": [
       "<Figure size 640x480 with 1 Axes>"
      ]
     },
     "metadata": {},
     "output_type": "display_data"
    }
   ],
   "source": [
    "# Count PLot\n",
    "sns.countplot(data['mainroad'],hue=data['furnishingstatus'])"
   ]
  },
  {
   "cell_type": "markdown",
   "id": "12a4b16c",
   "metadata": {},
   "source": [
    "### 3. Visualization - Multivariate Analysis"
   ]
  },
  {
   "cell_type": "code",
   "execution_count": 15,
   "id": "ff2cb093",
   "metadata": {},
   "outputs": [
    {
     "data": {
      "text/plain": [
       "<AxesSubplot:>"
      ]
     },
     "execution_count": 15,
     "metadata": {},
     "output_type": "execute_result"
    },
    {
     "data": {
      "image/png": "[encoded data removed]",
      "text/plain": [
       "<Figure size 640x480 with 2 Axes>"
      ]
     },
     "metadata": {},
     "output_type": "display_data"
    }
   ],
   "source": [
    "# Heat Map\n",
    "sns.heatmap(data.corr(), annot=True)"
   ]
  },
  {
   "cell_type": "markdown",
   "id": "fb2c850b",
   "metadata": {},
   "source": [
    "### 4. Descriptive Statistics"
   ]
  },
  {
   "cell_type": "code",
   "execution_count": 16,
   "id": "d0f0a619",
   "metadata": {},
   "outputs": [
    {
     "data": {
      "text/html": [
       "<div>\n",
       "<style scoped>\n",
       "    .dataframe tbody tr th:only-of-type {\n",
       "        vertical-align: middle;\n",
       "    }\n",
       "\n",
       "    .dataframe tbody tr th {\n",
       "        vertical-align: top;\n",
       "    }\n",
       "\n",
       "    .dataframe thead th {\n",
       "        text-align: right;\n",
       "    }\n",
       "</style>\n",
       "<table border=\"1\" class=\"dataframe\">\n",
       "  <thead>\n",
       "    <tr style=\"text-align: right;\">\n",
       "      <th></th>\n",
       "      <th>price</th>\n",
       "      <th>area</th>\n",
       "      <th>bedrooms</th>\n",
       "      <th>bathrooms</th>\n",
       "      <th>stories</th>\n",
       "      <th>parking</th>\n",
       "    </tr>\n",
       "  </thead>\n",
       "  <tbody>\n",
       "    <tr>\n",
       "      <th>count</th>\n",
       "      <td>5.450000e+02</td>\n",
       "      <td>545.000000</td>\n",
       "      <td>545.000000</td>\n",
       "      <td>545.000000</td>\n",
       "      <td>545.000000</td>\n",
       "      <td>545.000000</td>\n",
       "    </tr>\n",
       "    <tr>\n",
       "      <th>mean</th>\n",
       "      <td>4.766729e+06</td>\n",
       "      <td>5150.541284</td>\n",
       "      <td>2.965138</td>\n",
       "      <td>1.286239</td>\n",
       "      <td>1.805505</td>\n",
       "      <td>0.693578</td>\n",
       "    </tr>\n",
       "    <tr>\n",
       "      <th>std</th>\n",
       "      <td>1.870440e+06</td>\n",
       "      <td>2170.141023</td>\n",
       "      <td>0.738064</td>\n",
       "      <td>0.502470</td>\n",
       "      <td>0.867492</td>\n",
       "      <td>0.861586</td>\n",
       "    </tr>\n",
       "    <tr>\n",
       "      <th>min</th>\n",
       "      <td>1.750000e+06</td>\n",
       "      <td>1650.000000</td>\n",
       "      <td>1.000000</td>\n",
       "      <td>1.000000</td>\n",
       "      <td>1.000000</td>\n",
       "      <td>0.000000</td>\n",
       "    </tr>\n",
       "    <tr>\n",
       "      <th>25%</th>\n",
       "      <td>3.430000e+06</td>\n",
       "      <td>3600.000000</td>\n",
       "      <td>2.000000</td>\n",
       "      <td>1.000000</td>\n",
       "      <td>1.000000</td>\n",
       "      <td>0.000000</td>\n",
       "    </tr>\n",
       "    <tr>\n",
       "      <th>50%</th>\n",
       "      <td>4.340000e+06</td>\n",
       "      <td>4600.000000</td>\n",
       "      <td>3.000000</td>\n",
       "      <td>1.000000</td>\n",
       "      <td>2.000000</td>\n",
       "      <td>0.000000</td>\n",
       "    </tr>\n",
       "    <tr>\n",
       "      <th>75%</th>\n",
       "      <td>5.740000e+06</td>\n",
       "      <td>6360.000000</td>\n",
       "      <td>3.000000</td>\n",
       "      <td>2.000000</td>\n",
       "      <td>2.000000</td>\n",
       "      <td>1.000000</td>\n",
       "    </tr>\n",
       "    <tr>\n",
       "      <th>max</th>\n",
       "      <td>1.330000e+07</td>\n",
       "      <td>16200.000000</td>\n",
       "      <td>6.000000</td>\n",
       "      <td>4.000000</td>\n",
       "      <td>4.000000</td>\n",
       "      <td>3.000000</td>\n",
       "    </tr>\n",
       "  </tbody>\n",
       "</table>\n",
       "</div>"
      ],
      "text/plain": [
       "              price          area    bedrooms   bathrooms     stories  \\\n",
       "count  5.450000e+02    545.000000  545.000000  545.000000  545.000000   \n",
       "mean   4.766729e+06   5150.541284    2.965138    1.286239    1.805505   \n",
       "std    1.870440e+06   2170.141023    0.738064    0.502470    0.867492   \n",
       "min    1.750000e+06   1650.000000    1.000000    1.000000    1.000000   \n",
       "25%    3.430000e+06   3600.000000    2.000000    1.000000    1.000000   \n",
       "50%    4.340000e+06   4600.000000    3.000000    1.000000    2.000000   \n",
       "75%    5.740000e+06   6360.000000    3.000000    2.000000    2.000000   \n",
       "max    1.330000e+07  16200.000000    6.000000    4.000000    4.000000   \n",
       "\n",
       "          parking  \n",
       "count  545.000000  \n",
       "mean     0.693578  \n",
       "std      0.861586  \n",
       "min      0.000000  \n",
       "25%      0.000000  \n",
       "50%      0.000000  \n",
       "75%      1.000000  \n",
       "max      3.000000  "
      ]
     },
     "execution_count": 16,
     "metadata": {},
     "output_type": "execute_result"
    }
   ],
   "source": [
    "data.describe()"
   ]
  },
  {
   "cell_type": "code",
   "execution_count": 17,
   "id": "5dd032a0",
   "metadata": {},
   "outputs": [
    {
     "name": "stderr",
     "output_type": "stream",
     "text": [
      "C:\\Users\\JEYASRI VARTHINI\\AppData\\Local\\Temp\\ipykernel_1740\\531903386.py:1: FutureWarning: Dropping of nuisance columns in DataFrame reductions (with 'numeric_only=None') is deprecated; in a future version this will raise TypeError.  Select only valid columns before calling the reduction.\n",
      "  data.mean()\n"
     ]
    },
    {
     "data": {
      "text/plain": [
       "price        4.766729e+06\n",
       "area         5.150541e+03\n",
       "bedrooms     2.965138e+00\n",
       "bathrooms    1.286239e+00\n",
       "stories      1.805505e+00\n",
       "parking      6.935780e-01\n",
       "dtype: float64"
      ]
     },
     "execution_count": 17,
     "metadata": {},
     "output_type": "execute_result"
    }
   ],
   "source": [
    "data.mean()"
   ]
  },
  {
   "cell_type": "code",
   "execution_count": 18,
   "id": "7ff00bd9",
   "metadata": {},
   "outputs": [
    {
     "name": "stderr",
     "output_type": "stream",
     "text": [
      "C:\\Users\\JEYASRI VARTHINI\\AppData\\Local\\Temp\\ipykernel_1740\\4184645713.py:1: FutureWarning: Dropping of nuisance columns in DataFrame reductions (with 'numeric_only=None') is deprecated; in a future version this will raise TypeError.  Select only valid columns before calling the reduction.\n",
      "  data.median()\n"
     ]
    },
    {
     "data": {
      "text/plain": [
       "price        4340000.0\n",
       "area            4600.0\n",
       "bedrooms           3.0\n",
       "bathrooms          1.0\n",
       "stories            2.0\n",
       "parking            0.0\n",
       "dtype: float64"
      ]
     },
     "execution_count": 18,
     "metadata": {},
     "output_type": "execute_result"
    }
   ],
   "source": [
    "data.median()"
   ]
  },
  {
   "cell_type": "code",
   "execution_count": 19,
   "id": "63ac1f40",
   "metadata": {},
   "outputs": [
    {
     "data": {
      "text/html": [
       "<div>\n",
       "<style scoped>\n",
       "    .dataframe tbody tr th:only-of-type {\n",
       "        vertical-align: middle;\n",
       "    }\n",
       "\n",
       "    .dataframe tbody tr th {\n",
       "        vertical-align: top;\n",
       "    }\n",
       "\n",
       "    .dataframe thead th {\n",
       "        text-align: right;\n",
       "    }\n",
       "</style>\n",
       "<table border=\"1\" class=\"dataframe\">\n",
       "  <thead>\n",
       "    <tr style=\"text-align: right;\">\n",
       "      <th></th>\n",
       "      <th>price</th>\n",
       "      <th>area</th>\n",
       "      <th>bedrooms</th>\n",
       "      <th>bathrooms</th>\n",
       "      <th>stories</th>\n",
       "      <th>mainroad</th>\n",
       "      <th>guestroom</th>\n",
       "      <th>basement</th>\n",
       "      <th>hotwaterheating</th>\n",
       "      <th>airconditioning</th>\n",
       "      <th>parking</th>\n",
       "      <th>furnishingstatus</th>\n",
       "    </tr>\n",
       "  </thead>\n",
       "  <tbody>\n",
       "    <tr>\n",
       "      <th>0</th>\n",
       "      <td>3500000</td>\n",
       "      <td>6000.0</td>\n",
       "      <td>3.0</td>\n",
       "      <td>1.0</td>\n",
       "      <td>2.0</td>\n",
       "      <td>yes</td>\n",
       "      <td>no</td>\n",
       "      <td>no</td>\n",
       "      <td>no</td>\n",
       "      <td>no</td>\n",
       "      <td>0.0</td>\n",
       "      <td>semi-furnished</td>\n",
       "    </tr>\n",
       "    <tr>\n",
       "      <th>1</th>\n",
       "      <td>4200000</td>\n",
       "      <td>NaN</td>\n",
       "      <td>NaN</td>\n",
       "      <td>NaN</td>\n",
       "      <td>NaN</td>\n",
       "      <td>NaN</td>\n",
       "      <td>NaN</td>\n",
       "      <td>NaN</td>\n",
       "      <td>NaN</td>\n",
       "      <td>NaN</td>\n",
       "      <td>NaN</td>\n",
       "      <td>NaN</td>\n",
       "    </tr>\n",
       "  </tbody>\n",
       "</table>\n",
       "</div>"
      ],
      "text/plain": [
       "     price    area  bedrooms  bathrooms  stories mainroad guestroom basement  \\\n",
       "0  3500000  6000.0       3.0        1.0      2.0      yes        no       no   \n",
       "1  4200000     NaN       NaN        NaN      NaN      NaN       NaN      NaN   \n",
       "\n",
       "  hotwaterheating airconditioning  parking furnishingstatus  \n",
       "0              no              no      0.0   semi-furnished  \n",
       "1             NaN             NaN      NaN              NaN  "
      ]
     },
     "execution_count": 19,
     "metadata": {},
     "output_type": "execute_result"
    }
   ],
   "source": [
    "data.mode()"
   ]
  },
  {
   "cell_type": "code",
   "execution_count": 20,
   "id": "9ff33c51",
   "metadata": {},
   "outputs": [
    {
     "name": "stderr",
     "output_type": "stream",
     "text": [
      "C:\\Users\\JEYASRI VARTHINI\\AppData\\Local\\Temp\\ipykernel_1740\\445316826.py:1: FutureWarning: Dropping of nuisance columns in DataFrame reductions (with 'numeric_only=None') is deprecated; in a future version this will raise TypeError.  Select only valid columns before calling the reduction.\n",
      "  data.var()\n"
     ]
    },
    {
     "data": {
      "text/plain": [
       "price        3.498544e+12\n",
       "area         4.709512e+06\n",
       "bedrooms     5.447383e-01\n",
       "bathrooms    2.524757e-01\n",
       "stories      7.525432e-01\n",
       "parking      7.423300e-01\n",
       "dtype: float64"
      ]
     },
     "execution_count": 20,
     "metadata": {},
     "output_type": "execute_result"
    }
   ],
   "source": [
    "data.var()"
   ]
  },
  {
   "cell_type": "code",
   "execution_count": 21,
   "id": "e409b280",
   "metadata": {},
   "outputs": [
    {
     "name": "stderr",
     "output_type": "stream",
     "text": [
      "C:\\Users\\JEYASRI VARTHINI\\AppData\\Local\\Temp\\ipykernel_1740\\2723740006.py:1: FutureWarning: Dropping of nuisance columns in DataFrame reductions (with 'numeric_only=None') is deprecated; in a future version this will raise TypeError.  Select only valid columns before calling the reduction.\n",
      "  data.std()\n"
     ]
    },
    {
     "data": {
      "text/plain": [
       "price        1.870440e+06\n",
       "area         2.170141e+03\n",
       "bedrooms     7.380639e-01\n",
       "bathrooms    5.024696e-01\n",
       "stories      8.674925e-01\n",
       "parking      8.615858e-01\n",
       "dtype: float64"
      ]
     },
     "execution_count": 21,
     "metadata": {},
     "output_type": "execute_result"
    }
   ],
   "source": [
    "data.std()"
   ]
  },
  {
   "cell_type": "markdown",
   "id": "470fa66d",
   "metadata": {},
   "source": [
    "### 5. Handling Missing Values"
   ]
  },
  {
   "cell_type": "code",
   "execution_count": 22,
   "id": "39b2d8c3",
   "metadata": {},
   "outputs": [
    {
     "data": {
      "text/html": [
       "<div>\n",
       "<style scoped>\n",
       "    .dataframe tbody tr th:only-of-type {\n",
       "        vertical-align: middle;\n",
       "    }\n",
       "\n",
       "    .dataframe tbody tr th {\n",
       "        vertical-align: top;\n",
       "    }\n",
       "\n",
       "    .dataframe thead th {\n",
       "        text-align: right;\n",
       "    }\n",
       "</style>\n",
       "<table border=\"1\" class=\"dataframe\">\n",
       "  <thead>\n",
       "    <tr style=\"text-align: right;\">\n",
       "      <th></th>\n",
       "      <th>price</th>\n",
       "      <th>area</th>\n",
       "      <th>bedrooms</th>\n",
       "      <th>bathrooms</th>\n",
       "      <th>stories</th>\n",
       "      <th>mainroad</th>\n",
       "      <th>guestroom</th>\n",
       "      <th>basement</th>\n",
       "      <th>hotwaterheating</th>\n",
       "      <th>airconditioning</th>\n",
       "      <th>parking</th>\n",
       "      <th>furnishingstatus</th>\n",
       "    </tr>\n",
       "  </thead>\n",
       "  <tbody>\n",
       "    <tr>\n",
       "      <th>0</th>\n",
       "      <td>False</td>\n",
       "      <td>False</td>\n",
       "      <td>False</td>\n",
       "      <td>False</td>\n",
       "      <td>False</td>\n",
       "      <td>False</td>\n",
       "      <td>False</td>\n",
       "      <td>False</td>\n",
       "      <td>False</td>\n",
       "      <td>False</td>\n",
       "      <td>False</td>\n",
       "      <td>False</td>\n",
       "    </tr>\n",
       "    <tr>\n",
       "      <th>1</th>\n",
       "      <td>False</td>\n",
       "      <td>False</td>\n",
       "      <td>False</td>\n",
       "      <td>False</td>\n",
       "      <td>False</td>\n",
       "      <td>False</td>\n",
       "      <td>False</td>\n",
       "      <td>False</td>\n",
       "      <td>False</td>\n",
       "      <td>False</td>\n",
       "      <td>False</td>\n",
       "      <td>False</td>\n",
       "    </tr>\n",
       "    <tr>\n",
       "      <th>2</th>\n",
       "      <td>False</td>\n",
       "      <td>False</td>\n",
       "      <td>False</td>\n",
       "      <td>False</td>\n",
       "      <td>False</td>\n",
       "      <td>False</td>\n",
       "      <td>False</td>\n",
       "      <td>False</td>\n",
       "      <td>False</td>\n",
       "      <td>False</td>\n",
       "      <td>False</td>\n",
       "      <td>False</td>\n",
       "    </tr>\n",
       "    <tr>\n",
       "      <th>3</th>\n",
       "      <td>False</td>\n",
       "      <td>False</td>\n",
       "      <td>False</td>\n",
       "      <td>False</td>\n",
       "      <td>False</td>\n",
       "      <td>False</td>\n",
       "      <td>False</td>\n",
       "      <td>False</td>\n",
       "      <td>False</td>\n",
       "      <td>False</td>\n",
       "      <td>False</td>\n",
       "      <td>False</td>\n",
       "    </tr>\n",
       "    <tr>\n",
       "      <th>4</th>\n",
       "      <td>False</td>\n",
       "      <td>False</td>\n",
       "      <td>False</td>\n",
       "      <td>False</td>\n",
       "      <td>False</td>\n",
       "      <td>False</td>\n",
       "      <td>False</td>\n",
       "      <td>False</td>\n",
       "      <td>False</td>\n",
       "      <td>False</td>\n",
       "      <td>False</td>\n",
       "      <td>False</td>\n",
       "    </tr>\n",
       "    <tr>\n",
       "      <th>...</th>\n",
       "      <td>...</td>\n",
       "      <td>...</td>\n",
       "      <td>...</td>\n",
       "      <td>...</td>\n",
       "      <td>...</td>\n",
       "      <td>...</td>\n",
       "      <td>...</td>\n",
       "      <td>...</td>\n",
       "      <td>...</td>\n",
       "      <td>...</td>\n",
       "      <td>...</td>\n",
       "      <td>...</td>\n",
       "    </tr>\n",
       "    <tr>\n",
       "      <th>540</th>\n",
       "      <td>False</td>\n",
       "      <td>False</td>\n",
       "      <td>False</td>\n",
       "      <td>False</td>\n",
       "      <td>False</td>\n",
       "      <td>False</td>\n",
       "      <td>False</td>\n",
       "      <td>False</td>\n",
       "      <td>False</td>\n",
       "      <td>False</td>\n",
       "      <td>False</td>\n",
       "      <td>False</td>\n",
       "    </tr>\n",
       "    <tr>\n",
       "      <th>541</th>\n",
       "      <td>False</td>\n",
       "      <td>False</td>\n",
       "      <td>False</td>\n",
       "      <td>False</td>\n",
       "      <td>False</td>\n",
       "      <td>False</td>\n",
       "      <td>False</td>\n",
       "      <td>False</td>\n",
       "      <td>False</td>\n",
       "      <td>False</td>\n",
       "      <td>False</td>\n",
       "      <td>False</td>\n",
       "    </tr>\n",
       "    <tr>\n",
       "      <th>542</th>\n",
       "      <td>False</td>\n",
       "      <td>False</td>\n",
       "      <td>False</td>\n",
       "      <td>False</td>\n",
       "      <td>False</td>\n",
       "      <td>False</td>\n",
       "      <td>False</td>\n",
       "      <td>False</td>\n",
       "      <td>False</td>\n",
       "      <td>False</td>\n",
       "      <td>False</td>\n",
       "      <td>False</td>\n",
       "    </tr>\n",
       "    <tr>\n",
       "      <th>543</th>\n",
       "      <td>False</td>\n",
       "      <td>False</td>\n",
       "      <td>False</td>\n",
       "      <td>False</td>\n",
       "      <td>False</td>\n",
       "      <td>False</td>\n",
       "      <td>False</td>\n",
       "      <td>False</td>\n",
       "      <td>False</td>\n",
       "      <td>False</td>\n",
       "      <td>False</td>\n",
       "      <td>False</td>\n",
       "    </tr>\n",
       "    <tr>\n",
       "      <th>544</th>\n",
       "      <td>False</td>\n",
       "      <td>False</td>\n",
       "      <td>False</td>\n",
       "      <td>False</td>\n",
       "      <td>False</td>\n",
       "      <td>False</td>\n",
       "      <td>False</td>\n",
       "      <td>False</td>\n",
       "      <td>False</td>\n",
       "      <td>False</td>\n",
       "      <td>False</td>\n",
       "      <td>False</td>\n",
       "    </tr>\n",
       "  </tbody>\n",
       "</table>\n",
       "<p>545 rows × 12 columns</p>\n",
       "</div>"
      ],
      "text/plain": [
       "     price   area  bedrooms  bathrooms  stories  mainroad  guestroom  \\\n",
       "0    False  False     False      False    False     False      False   \n",
       "1    False  False     False      False    False     False      False   \n",
       "2    False  False     False      False    False     False      False   \n",
       "3    False  False     False      False    False     False      False   \n",
       "4    False  False     False      False    False     False      False   \n",
       "..     ...    ...       ...        ...      ...       ...        ...   \n",
       "540  False  False     False      False    False     False      False   \n",
       "541  False  False     False      False    False     False      False   \n",
       "542  False  False     False      False    False     False      False   \n",
       "543  False  False     False      False    False     False      False   \n",
       "544  False  False     False      False    False     False      False   \n",
       "\n",
       "     basement  hotwaterheating  airconditioning  parking  furnishingstatus  \n",
       "0       False            False            False    False             False  \n",
       "1       False            False            False    False             False  \n",
       "2       False            False            False    False             False  \n",
       "3       False            False            False    False             False  \n",
       "4       False            False            False    False             False  \n",
       "..        ...              ...              ...      ...               ...  \n",
       "540     False            False            False    False             False  \n",
       "541     False            False            False    False             False  \n",
       "542     False            False            False    False             False  \n",
       "543     False            False            False    False             False  \n",
       "544     False            False            False    False             False  \n",
       "\n",
       "[545 rows x 12 columns]"
      ]
     },
     "execution_count": 22,
     "metadata": {},
     "output_type": "execute_result"
    }
   ],
   "source": [
    "data.isna()"
   ]
  },
  {
   "cell_type": "code",
   "execution_count": 23,
   "id": "a477a6af",
   "metadata": {},
   "outputs": [
    {
     "data": {
      "text/plain": [
       "price               False\n",
       "area                False\n",
       "bedrooms            False\n",
       "bathrooms           False\n",
       "stories             False\n",
       "mainroad            False\n",
       "guestroom           False\n",
       "basement            False\n",
       "hotwaterheating     False\n",
       "airconditioning     False\n",
       "parking             False\n",
       "furnishingstatus    False\n",
       "dtype: bool"
      ]
     },
     "execution_count": 23,
     "metadata": {},
     "output_type": "execute_result"
    }
   ],
   "source": [
    "data.isnull().any()"
   ]
  },
  {
   "cell_type": "code",
   "execution_count": 24,
   "id": "bef1f9ae",
   "metadata": {},
   "outputs": [
    {
     "data": {
      "text/plain": [
       "price               0\n",
       "area                0\n",
       "bedrooms            0\n",
       "bathrooms           0\n",
       "stories             0\n",
       "mainroad            0\n",
       "guestroom           0\n",
       "basement            0\n",
       "hotwaterheating     0\n",
       "airconditioning     0\n",
       "parking             0\n",
       "furnishingstatus    0\n",
       "dtype: int64"
      ]
     },
     "execution_count": 24,
     "metadata": {},
     "output_type": "execute_result"
    }
   ],
   "source": [
    "data.isnull().sum()"
   ]
  },
  {
   "cell_type": "code",
   "execution_count": 25,
   "id": "c3ff3273",
   "metadata": {},
   "outputs": [
    {
     "name": "stdout",
     "output_type": "stream",
     "text": [
      "No Missing Values!\n"
     ]
    }
   ],
   "source": [
    "# Missing Values of Numerical attribute must be replaced with its Mean\n",
    "# Missing Values of Categorical attribute must be replaced with frequently occuring category\n",
    "# But here there are no missing values\n",
    "print(\"No Missing Values!\")"
   ]
  },
  {
   "cell_type": "markdown",
   "id": "b75bbeae",
   "metadata": {},
   "source": [
    "### 6. Finding and replacing the outliers"
   ]
  },
  {
   "cell_type": "code",
   "execution_count": 26,
   "id": "a043d552",
   "metadata": {},
   "outputs": [
    {
     "name": "stderr",
     "output_type": "stream",
     "text": [
      "C:\\ProgramData\\Anaconda3\\lib\\site-packages\\seaborn\\_decorators.py:36: FutureWarning: Pass the following variable as a keyword arg: x. From version 0.12, the only valid positional argument will be `data`, and passing other arguments without an explicit keyword will result in an error or misinterpretation.\n",
      "  warnings.warn(\n"
     ]
    },
    {
     "data": {
      "text/plain": [
       "<AxesSubplot:xlabel='area'>"
      ]
     },
     "execution_count": 26,
     "metadata": {},
     "output_type": "execute_result"
    },
    {
     "data": {
      "image/png": "[encoded data removed]",
      "text/plain": [
       "<Figure size 640x480 with 1 Axes>"
      ]
     },
     "metadata": {},
     "output_type": "display_data"
    }
   ],
   "source": [
    "# area (Numerical attribute)\n",
    "sns.boxplot(data.area)"
   ]
  },
  {
   "cell_type": "code",
   "execution_count": 27,
   "id": "7cbe4f23",
   "metadata": {},
   "outputs": [
    {
     "data": {
      "text/plain": [
       "9000.0"
      ]
     },
     "execution_count": 27,
     "metadata": {},
     "output_type": "execute_result"
    }
   ],
   "source": [
    "max_threshold = data.area.quantile(0.95)\n",
    "max_threshold"
   ]
  },
  {
   "cell_type": "code",
   "execution_count": 28,
   "id": "7261cbe9",
   "metadata": {},
   "outputs": [
    {
     "data": {
      "text/plain": [
       "2562.0"
      ]
     },
     "execution_count": 28,
     "metadata": {},
     "output_type": "execute_result"
    }
   ],
   "source": [
    "min_threshold = data.area.quantile(0.05)\n",
    "min_threshold"
   ]
  },
  {
   "cell_type": "code",
   "execution_count": 29,
   "id": "abe4a37a",
   "metadata": {},
   "outputs": [],
   "source": [
    "data = data[data.area<=max_threshold]\n",
    "data = data[data.area>=min_threshold]"
   ]
  },
  {
   "cell_type": "code",
   "execution_count": 30,
   "id": "1df61a98",
   "metadata": {},
   "outputs": [
    {
     "name": "stderr",
     "output_type": "stream",
     "text": [
      "C:\\ProgramData\\Anaconda3\\lib\\site-packages\\seaborn\\_decorators.py:36: FutureWarning: Pass the following variable as a keyword arg: x. From version 0.12, the only valid positional argument will be `data`, and passing other arguments without an explicit keyword will result in an error or misinterpretation.\n",
      "  warnings.warn(\n"
     ]
    },
    {
     "data": {
      "text/plain": [
       "<AxesSubplot:xlabel='area'>"
      ]
     },
     "execution_count": 30,
     "metadata": {},
     "output_type": "execute_result"
    },
    {
     "data": {
      "image/png": "[encoded data removed]",
      "text/plain": [
       "<Figure size 640x480 with 1 Axes>"
      ]
     },
     "metadata": {},
     "output_type": "display_data"
    }
   ],
   "source": [
    "sns.boxplot(data.area)"
   ]
  },
  {
   "cell_type": "markdown",
   "id": "eb998b9d",
   "metadata": {},
   "source": [
    "### 7. Encoding - Label Encoding"
   ]
  },
  {
   "cell_type": "code",
   "execution_count": 31,
   "id": "85c7a2c8",
   "metadata": {},
   "outputs": [],
   "source": [
    "from sklearn.preprocessing import LabelEncoder\n",
    "le = LabelEncoder()\n",
    "data.mainroad = le.fit_transform(data.mainroad)\n",
    "data.guestroom = le.fit_transform(data.guestroom)\n",
    "data.basement = le.fit_transform(data.basement)\n",
    "data.hotwaterheating = le.fit_transform(data.hotwaterheating)\n",
    "data.airconditioning = le.fit_transform(data.airconditioning)"
   ]
  },
  {
   "cell_type": "code",
   "execution_count": 32,
   "id": "7e42365b",
   "metadata": {},
   "outputs": [
    {
     "data": {
      "text/html": [
       "<div>\n",
       "<style scoped>\n",
       "    .dataframe tbody tr th:only-of-type {\n",
       "        vertical-align: middle;\n",
       "    }\n",
       "\n",
       "    .dataframe tbody tr th {\n",
       "        vertical-align: top;\n",
       "    }\n",
       "\n",
       "    .dataframe thead th {\n",
       "        text-align: right;\n",
       "    }\n",
       "</style>\n",
       "<table border=\"1\" class=\"dataframe\">\n",
       "  <thead>\n",
       "    <tr style=\"text-align: right;\">\n",
       "      <th></th>\n",
       "      <th>price</th>\n",
       "      <th>area</th>\n",
       "      <th>bedrooms</th>\n",
       "      <th>bathrooms</th>\n",
       "      <th>stories</th>\n",
       "      <th>mainroad</th>\n",
       "      <th>guestroom</th>\n",
       "      <th>basement</th>\n",
       "      <th>hotwaterheating</th>\n",
       "      <th>airconditioning</th>\n",
       "      <th>parking</th>\n",
       "      <th>furnishingstatus</th>\n",
       "    </tr>\n",
       "  </thead>\n",
       "  <tbody>\n",
       "    <tr>\n",
       "      <th>0</th>\n",
       "      <td>13300000</td>\n",
       "      <td>7420</td>\n",
       "      <td>4</td>\n",
       "      <td>2</td>\n",
       "      <td>3</td>\n",
       "      <td>1</td>\n",
       "      <td>0</td>\n",
       "      <td>0</td>\n",
       "      <td>0</td>\n",
       "      <td>1</td>\n",
       "      <td>2</td>\n",
       "      <td>furnished</td>\n",
       "    </tr>\n",
       "    <tr>\n",
       "      <th>1</th>\n",
       "      <td>12250000</td>\n",
       "      <td>8960</td>\n",
       "      <td>4</td>\n",
       "      <td>4</td>\n",
       "      <td>4</td>\n",
       "      <td>1</td>\n",
       "      <td>0</td>\n",
       "      <td>0</td>\n",
       "      <td>0</td>\n",
       "      <td>1</td>\n",
       "      <td>3</td>\n",
       "      <td>furnished</td>\n",
       "    </tr>\n",
       "    <tr>\n",
       "      <th>3</th>\n",
       "      <td>12215000</td>\n",
       "      <td>7500</td>\n",
       "      <td>4</td>\n",
       "      <td>2</td>\n",
       "      <td>2</td>\n",
       "      <td>1</td>\n",
       "      <td>0</td>\n",
       "      <td>1</td>\n",
       "      <td>0</td>\n",
       "      <td>1</td>\n",
       "      <td>3</td>\n",
       "      <td>furnished</td>\n",
       "    </tr>\n",
       "    <tr>\n",
       "      <th>4</th>\n",
       "      <td>11410000</td>\n",
       "      <td>7420</td>\n",
       "      <td>4</td>\n",
       "      <td>1</td>\n",
       "      <td>2</td>\n",
       "      <td>1</td>\n",
       "      <td>1</td>\n",
       "      <td>1</td>\n",
       "      <td>0</td>\n",
       "      <td>1</td>\n",
       "      <td>2</td>\n",
       "      <td>furnished</td>\n",
       "    </tr>\n",
       "    <tr>\n",
       "      <th>5</th>\n",
       "      <td>10850000</td>\n",
       "      <td>7500</td>\n",
       "      <td>3</td>\n",
       "      <td>3</td>\n",
       "      <td>1</td>\n",
       "      <td>1</td>\n",
       "      <td>0</td>\n",
       "      <td>1</td>\n",
       "      <td>0</td>\n",
       "      <td>1</td>\n",
       "      <td>2</td>\n",
       "      <td>semi-furnished</td>\n",
       "    </tr>\n",
       "  </tbody>\n",
       "</table>\n",
       "</div>"
      ],
      "text/plain": [
       "      price  area  bedrooms  bathrooms  stories  mainroad  guestroom  \\\n",
       "0  13300000  7420         4          2        3         1          0   \n",
       "1  12250000  8960         4          4        4         1          0   \n",
       "3  12215000  7500         4          2        2         1          0   \n",
       "4  11410000  7420         4          1        2         1          1   \n",
       "5  10850000  7500         3          3        1         1          0   \n",
       "\n",
       "   basement  hotwaterheating  airconditioning  parking furnishingstatus  \n",
       "0         0                0                1        2        furnished  \n",
       "1         0                0                1        3        furnished  \n",
       "3         1                0                1        3        furnished  \n",
       "4         1                0                1        2        furnished  \n",
       "5         1                0                1        2   semi-furnished  "
      ]
     },
     "execution_count": 32,
     "metadata": {},
     "output_type": "execute_result"
    }
   ],
   "source": [
    "data.head()"
   ]
  },
  {
   "cell_type": "markdown",
   "id": "331f2672",
   "metadata": {},
   "source": [
    "### 7. Encoding - One Hot Encoding"
   ]
  },
  {
   "cell_type": "code",
   "execution_count": 33,
   "id": "527b92e2",
   "metadata": {},
   "outputs": [],
   "source": [
    "data = pd.get_dummies(data,columns=['furnishingstatus'])"
   ]
  },
  {
   "cell_type": "code",
   "execution_count": 34,
   "id": "ac4291aa",
   "metadata": {},
   "outputs": [
    {
     "data": {
      "text/html": [
       "<div>\n",
       "<style scoped>\n",
       "    .dataframe tbody tr th:only-of-type {\n",
       "        vertical-align: middle;\n",
       "    }\n",
       "\n",
       "    .dataframe tbody tr th {\n",
       "        vertical-align: top;\n",
       "    }\n",
       "\n",
       "    .dataframe thead th {\n",
       "        text-align: right;\n",
       "    }\n",
       "</style>\n",
       "<table border=\"1\" class=\"dataframe\">\n",
       "  <thead>\n",
       "    <tr style=\"text-align: right;\">\n",
       "      <th></th>\n",
       "      <th>price</th>\n",
       "      <th>area</th>\n",
       "      <th>bedrooms</th>\n",
       "      <th>bathrooms</th>\n",
       "      <th>stories</th>\n",
       "      <th>mainroad</th>\n",
       "      <th>guestroom</th>\n",
       "      <th>basement</th>\n",
       "      <th>hotwaterheating</th>\n",
       "      <th>airconditioning</th>\n",
       "      <th>parking</th>\n",
       "      <th>furnishingstatus_furnished</th>\n",
       "      <th>furnishingstatus_semi-furnished</th>\n",
       "      <th>furnishingstatus_unfurnished</th>\n",
       "    </tr>\n",
       "  </thead>\n",
       "  <tbody>\n",
       "    <tr>\n",
       "      <th>0</th>\n",
       "      <td>13300000</td>\n",
       "      <td>7420</td>\n",
       "      <td>4</td>\n",
       "      <td>2</td>\n",
       "      <td>3</td>\n",
       "      <td>1</td>\n",
       "      <td>0</td>\n",
       "      <td>0</td>\n",
       "      <td>0</td>\n",
       "      <td>1</td>\n",
       "      <td>2</td>\n",
       "      <td>1</td>\n",
       "      <td>0</td>\n",
       "      <td>0</td>\n",
       "    </tr>\n",
       "    <tr>\n",
       "      <th>1</th>\n",
       "      <td>12250000</td>\n",
       "      <td>8960</td>\n",
       "      <td>4</td>\n",
       "      <td>4</td>\n",
       "      <td>4</td>\n",
       "      <td>1</td>\n",
       "      <td>0</td>\n",
       "      <td>0</td>\n",
       "      <td>0</td>\n",
       "      <td>1</td>\n",
       "      <td>3</td>\n",
       "      <td>1</td>\n",
       "      <td>0</td>\n",
       "      <td>0</td>\n",
       "    </tr>\n",
       "    <tr>\n",
       "      <th>3</th>\n",
       "      <td>12215000</td>\n",
       "      <td>7500</td>\n",
       "      <td>4</td>\n",
       "      <td>2</td>\n",
       "      <td>2</td>\n",
       "      <td>1</td>\n",
       "      <td>0</td>\n",
       "      <td>1</td>\n",
       "      <td>0</td>\n",
       "      <td>1</td>\n",
       "      <td>3</td>\n",
       "      <td>1</td>\n",
       "      <td>0</td>\n",
       "      <td>0</td>\n",
       "    </tr>\n",
       "    <tr>\n",
       "      <th>4</th>\n",
       "      <td>11410000</td>\n",
       "      <td>7420</td>\n",
       "      <td>4</td>\n",
       "      <td>1</td>\n",
       "      <td>2</td>\n",
       "      <td>1</td>\n",
       "      <td>1</td>\n",
       "      <td>1</td>\n",
       "      <td>0</td>\n",
       "      <td>1</td>\n",
       "      <td>2</td>\n",
       "      <td>1</td>\n",
       "      <td>0</td>\n",
       "      <td>0</td>\n",
       "    </tr>\n",
       "    <tr>\n",
       "      <th>5</th>\n",
       "      <td>10850000</td>\n",
       "      <td>7500</td>\n",
       "      <td>3</td>\n",
       "      <td>3</td>\n",
       "      <td>1</td>\n",
       "      <td>1</td>\n",
       "      <td>0</td>\n",
       "      <td>1</td>\n",
       "      <td>0</td>\n",
       "      <td>1</td>\n",
       "      <td>2</td>\n",
       "      <td>0</td>\n",
       "      <td>1</td>\n",
       "      <td>0</td>\n",
       "    </tr>\n",
       "  </tbody>\n",
       "</table>\n",
       "</div>"
      ],
      "text/plain": [
       "      price  area  bedrooms  bathrooms  stories  mainroad  guestroom  \\\n",
       "0  13300000  7420         4          2        3         1          0   \n",
       "1  12250000  8960         4          4        4         1          0   \n",
       "3  12215000  7500         4          2        2         1          0   \n",
       "4  11410000  7420         4          1        2         1          1   \n",
       "5  10850000  7500         3          3        1         1          0   \n",
       "\n",
       "   basement  hotwaterheating  airconditioning  parking  \\\n",
       "0         0                0                1        2   \n",
       "1         0                0                1        3   \n",
       "3         1                0                1        3   \n",
       "4         1                0                1        2   \n",
       "5         1                0                1        2   \n",
       "\n",
       "   furnishingstatus_furnished  furnishingstatus_semi-furnished  \\\n",
       "0                           1                                0   \n",
       "1                           1                                0   \n",
       "3                           1                                0   \n",
       "4                           1                                0   \n",
       "5                           0                                1   \n",
       "\n",
       "   furnishingstatus_unfurnished  \n",
       "0                             0  \n",
       "1                             0  \n",
       "3                             0  \n",
       "4                             0  \n",
       "5                             0  "
      ]
     },
     "execution_count": 34,
     "metadata": {},
     "output_type": "execute_result"
    }
   ],
   "source": [
    "data.head()"
   ]
  },
  {
   "cell_type": "markdown",
   "id": "43038f6b",
   "metadata": {},
   "source": [
    "### 8. Splitting data into dependent and independent variables"
   ]
  },
  {
   "cell_type": "code",
   "execution_count": 35,
   "id": "45f02ad3",
   "metadata": {},
   "outputs": [
    {
     "data": {
      "text/plain": [
       "0    13300000\n",
       "1    12250000\n",
       "3    12215000\n",
       "4    11410000\n",
       "5    10850000\n",
       "Name: price, dtype: int64"
      ]
     },
     "execution_count": 35,
     "metadata": {},
     "output_type": "execute_result"
    }
   ],
   "source": [
    "# Dependent/Target variable y\n",
    "y = data['price']\n",
    "y.head()"
   ]
  },
  {
   "cell_type": "code",
   "execution_count": 36,
   "id": "48219bd5",
   "metadata": {},
   "outputs": [
    {
     "data": {
      "text/html": [
       "<div>\n",
       "<style scoped>\n",
       "    .dataframe tbody tr th:only-of-type {\n",
       "        vertical-align: middle;\n",
       "    }\n",
       "\n",
       "    .dataframe tbody tr th {\n",
       "        vertical-align: top;\n",
       "    }\n",
       "\n",
       "    .dataframe thead th {\n",
       "        text-align: right;\n",
       "    }\n",
       "</style>\n",
       "<table border=\"1\" class=\"dataframe\">\n",
       "  <thead>\n",
       "    <tr style=\"text-align: right;\">\n",
       "      <th></th>\n",
       "      <th>area</th>\n",
       "      <th>bedrooms</th>\n",
       "      <th>bathrooms</th>\n",
       "      <th>stories</th>\n",
       "      <th>mainroad</th>\n",
       "      <th>guestroom</th>\n",
       "      <th>basement</th>\n",
       "      <th>hotwaterheating</th>\n",
       "      <th>airconditioning</th>\n",
       "      <th>parking</th>\n",
       "      <th>furnishingstatus_furnished</th>\n",
       "      <th>furnishingstatus_semi-furnished</th>\n",
       "      <th>furnishingstatus_unfurnished</th>\n",
       "    </tr>\n",
       "  </thead>\n",
       "  <tbody>\n",
       "    <tr>\n",
       "      <th>0</th>\n",
       "      <td>7420</td>\n",
       "      <td>4</td>\n",
       "      <td>2</td>\n",
       "      <td>3</td>\n",
       "      <td>1</td>\n",
       "      <td>0</td>\n",
       "      <td>0</td>\n",
       "      <td>0</td>\n",
       "      <td>1</td>\n",
       "      <td>2</td>\n",
       "      <td>1</td>\n",
       "      <td>0</td>\n",
       "      <td>0</td>\n",
       "    </tr>\n",
       "    <tr>\n",
       "      <th>1</th>\n",
       "      <td>8960</td>\n",
       "      <td>4</td>\n",
       "      <td>4</td>\n",
       "      <td>4</td>\n",
       "      <td>1</td>\n",
       "      <td>0</td>\n",
       "      <td>0</td>\n",
       "      <td>0</td>\n",
       "      <td>1</td>\n",
       "      <td>3</td>\n",
       "      <td>1</td>\n",
       "      <td>0</td>\n",
       "      <td>0</td>\n",
       "    </tr>\n",
       "    <tr>\n",
       "      <th>3</th>\n",
       "      <td>7500</td>\n",
       "      <td>4</td>\n",
       "      <td>2</td>\n",
       "      <td>2</td>\n",
       "      <td>1</td>\n",
       "      <td>0</td>\n",
       "      <td>1</td>\n",
       "      <td>0</td>\n",
       "      <td>1</td>\n",
       "      <td>3</td>\n",
       "      <td>1</td>\n",
       "      <td>0</td>\n",
       "      <td>0</td>\n",
       "    </tr>\n",
       "    <tr>\n",
       "      <th>4</th>\n",
       "      <td>7420</td>\n",
       "      <td>4</td>\n",
       "      <td>1</td>\n",
       "      <td>2</td>\n",
       "      <td>1</td>\n",
       "      <td>1</td>\n",
       "      <td>1</td>\n",
       "      <td>0</td>\n",
       "      <td>1</td>\n",
       "      <td>2</td>\n",
       "      <td>1</td>\n",
       "      <td>0</td>\n",
       "      <td>0</td>\n",
       "    </tr>\n",
       "    <tr>\n",
       "      <th>5</th>\n",
       "      <td>7500</td>\n",
       "      <td>3</td>\n",
       "      <td>3</td>\n",
       "      <td>1</td>\n",
       "      <td>1</td>\n",
       "      <td>0</td>\n",
       "      <td>1</td>\n",
       "      <td>0</td>\n",
       "      <td>1</td>\n",
       "      <td>2</td>\n",
       "      <td>0</td>\n",
       "      <td>1</td>\n",
       "      <td>0</td>\n",
       "    </tr>\n",
       "  </tbody>\n",
       "</table>\n",
       "</div>"
      ],
      "text/plain": [
       "   area  bedrooms  bathrooms  stories  mainroad  guestroom  basement  \\\n",
       "0  7420         4          2        3         1          0         0   \n",
       "1  8960         4          4        4         1          0         0   \n",
       "3  7500         4          2        2         1          0         1   \n",
       "4  7420         4          1        2         1          1         1   \n",
       "5  7500         3          3        1         1          0         1   \n",
       "\n",
       "   hotwaterheating  airconditioning  parking  furnishingstatus_furnished  \\\n",
       "0                0                1        2                           1   \n",
       "1                0                1        3                           1   \n",
       "3                0                1        3                           1   \n",
       "4                0                1        2                           1   \n",
       "5                0                1        2                           0   \n",
       "\n",
       "   furnishingstatus_semi-furnished  furnishingstatus_unfurnished  \n",
       "0                                0                             0  \n",
       "1                                0                             0  \n",
       "3                                0                             0  \n",
       "4                                0                             0  \n",
       "5                                1                             0  "
      ]
     },
     "execution_count": 36,
     "metadata": {},
     "output_type": "execute_result"
    }
   ],
   "source": [
    "# Independent/Predictor variable x\n",
    "x = data.drop(columns=['price'],axis=1)\n",
    "x.head()"
   ]
  },
  {
   "cell_type": "markdown",
   "id": "6ef36cba",
   "metadata": {},
   "source": [
    "### 9. Scaling the independent variables"
   ]
  },
  {
   "cell_type": "code",
   "execution_count": 37,
   "id": "dea26457",
   "metadata": {},
   "outputs": [
    {
     "data": {
      "text/plain": [
       "Index(['area', 'bedrooms', 'bathrooms', 'stories', 'mainroad', 'guestroom',\n",
       "       'basement', 'hotwaterheating', 'airconditioning', 'parking',\n",
       "       'furnishingstatus_furnished', 'furnishingstatus_semi-furnished',\n",
       "       'furnishingstatus_unfurnished'],\n",
       "      dtype='object')"
      ]
     },
     "execution_count": 37,
     "metadata": {},
     "output_type": "execute_result"
    }
   ],
   "source": [
    "# Minmax Scaling (Scaling values between 0 and 1)\n",
    "name = x.columns\n",
    "name"
   ]
  },
  {
   "cell_type": "code",
   "execution_count": 38,
   "id": "4216b199",
   "metadata": {},
   "outputs": [
    {
     "data": {
      "text/plain": [
       "array([[0.75273865, 0.6       , 0.33333333, ..., 1.        , 0.        ,\n",
       "        0.        ],\n",
       "       [0.99374022, 0.6       , 1.        , ..., 1.        , 0.        ,\n",
       "        0.        ],\n",
       "       [0.76525822, 0.6       , 0.33333333, ..., 1.        , 0.        ,\n",
       "        0.        ],\n",
       "       ...,\n",
       "       [0.15805947, 0.2       , 0.        , ..., 0.        , 0.        ,\n",
       "        1.        ],\n",
       "       [0.04694836, 0.4       , 0.        , ..., 1.        , 0.        ,\n",
       "        0.        ],\n",
       "       [0.19405321, 0.4       , 0.        , ..., 0.        , 0.        ,\n",
       "        1.        ]])"
      ]
     },
     "execution_count": 38,
     "metadata": {},
     "output_type": "execute_result"
    }
   ],
   "source": [
    "from sklearn.preprocessing import MinMaxScaler\n",
    "scale = MinMaxScaler()\n",
    "x_scaled = scale.fit_transform(x)\n",
    "x_scaled"
   ]
  },
  {
   "cell_type": "code",
   "execution_count": 39,
   "id": "82019b26",
   "metadata": {},
   "outputs": [
    {
     "data": {
      "text/html": [
       "<div>\n",
       "<style scoped>\n",
       "    .dataframe tbody tr th:only-of-type {\n",
       "        vertical-align: middle;\n",
       "    }\n",
       "\n",
       "    .dataframe tbody tr th {\n",
       "        vertical-align: top;\n",
       "    }\n",
       "\n",
       "    .dataframe thead th {\n",
       "        text-align: right;\n",
       "    }\n",
       "</style>\n",
       "<table border=\"1\" class=\"dataframe\">\n",
       "  <thead>\n",
       "    <tr style=\"text-align: right;\">\n",
       "      <th></th>\n",
       "      <th>area</th>\n",
       "      <th>bedrooms</th>\n",
       "      <th>bathrooms</th>\n",
       "      <th>stories</th>\n",
       "      <th>mainroad</th>\n",
       "      <th>guestroom</th>\n",
       "      <th>basement</th>\n",
       "      <th>hotwaterheating</th>\n",
       "      <th>airconditioning</th>\n",
       "      <th>parking</th>\n",
       "      <th>furnishingstatus_furnished</th>\n",
       "      <th>furnishingstatus_semi-furnished</th>\n",
       "      <th>furnishingstatus_unfurnished</th>\n",
       "    </tr>\n",
       "  </thead>\n",
       "  <tbody>\n",
       "    <tr>\n",
       "      <th>0</th>\n",
       "      <td>0.752739</td>\n",
       "      <td>0.6</td>\n",
       "      <td>0.333333</td>\n",
       "      <td>0.666667</td>\n",
       "      <td>1.0</td>\n",
       "      <td>0.0</td>\n",
       "      <td>0.0</td>\n",
       "      <td>0.0</td>\n",
       "      <td>1.0</td>\n",
       "      <td>0.666667</td>\n",
       "      <td>1.0</td>\n",
       "      <td>0.0</td>\n",
       "      <td>0.0</td>\n",
       "    </tr>\n",
       "    <tr>\n",
       "      <th>1</th>\n",
       "      <td>0.993740</td>\n",
       "      <td>0.6</td>\n",
       "      <td>1.000000</td>\n",
       "      <td>1.000000</td>\n",
       "      <td>1.0</td>\n",
       "      <td>0.0</td>\n",
       "      <td>0.0</td>\n",
       "      <td>0.0</td>\n",
       "      <td>1.0</td>\n",
       "      <td>1.000000</td>\n",
       "      <td>1.0</td>\n",
       "      <td>0.0</td>\n",
       "      <td>0.0</td>\n",
       "    </tr>\n",
       "    <tr>\n",
       "      <th>2</th>\n",
       "      <td>0.765258</td>\n",
       "      <td>0.6</td>\n",
       "      <td>0.333333</td>\n",
       "      <td>0.333333</td>\n",
       "      <td>1.0</td>\n",
       "      <td>0.0</td>\n",
       "      <td>1.0</td>\n",
       "      <td>0.0</td>\n",
       "      <td>1.0</td>\n",
       "      <td>1.000000</td>\n",
       "      <td>1.0</td>\n",
       "      <td>0.0</td>\n",
       "      <td>0.0</td>\n",
       "    </tr>\n",
       "    <tr>\n",
       "      <th>3</th>\n",
       "      <td>0.752739</td>\n",
       "      <td>0.6</td>\n",
       "      <td>0.000000</td>\n",
       "      <td>0.333333</td>\n",
       "      <td>1.0</td>\n",
       "      <td>1.0</td>\n",
       "      <td>1.0</td>\n",
       "      <td>0.0</td>\n",
       "      <td>1.0</td>\n",
       "      <td>0.666667</td>\n",
       "      <td>1.0</td>\n",
       "      <td>0.0</td>\n",
       "      <td>0.0</td>\n",
       "    </tr>\n",
       "    <tr>\n",
       "      <th>4</th>\n",
       "      <td>0.765258</td>\n",
       "      <td>0.4</td>\n",
       "      <td>0.666667</td>\n",
       "      <td>0.000000</td>\n",
       "      <td>1.0</td>\n",
       "      <td>0.0</td>\n",
       "      <td>1.0</td>\n",
       "      <td>0.0</td>\n",
       "      <td>1.0</td>\n",
       "      <td>0.666667</td>\n",
       "      <td>0.0</td>\n",
       "      <td>1.0</td>\n",
       "      <td>0.0</td>\n",
       "    </tr>\n",
       "    <tr>\n",
       "      <th>...</th>\n",
       "      <td>...</td>\n",
       "      <td>...</td>\n",
       "      <td>...</td>\n",
       "      <td>...</td>\n",
       "      <td>...</td>\n",
       "      <td>...</td>\n",
       "      <td>...</td>\n",
       "      <td>...</td>\n",
       "      <td>...</td>\n",
       "      <td>...</td>\n",
       "      <td>...</td>\n",
       "      <td>...</td>\n",
       "      <td>...</td>\n",
       "    </tr>\n",
       "    <tr>\n",
       "      <th>487</th>\n",
       "      <td>0.059468</td>\n",
       "      <td>0.2</td>\n",
       "      <td>0.000000</td>\n",
       "      <td>0.000000</td>\n",
       "      <td>0.0</td>\n",
       "      <td>0.0</td>\n",
       "      <td>0.0</td>\n",
       "      <td>0.0</td>\n",
       "      <td>0.0</td>\n",
       "      <td>0.333333</td>\n",
       "      <td>0.0</td>\n",
       "      <td>0.0</td>\n",
       "      <td>1.0</td>\n",
       "    </tr>\n",
       "    <tr>\n",
       "      <th>488</th>\n",
       "      <td>0.061033</td>\n",
       "      <td>0.2</td>\n",
       "      <td>0.000000</td>\n",
       "      <td>0.000000</td>\n",
       "      <td>1.0</td>\n",
       "      <td>0.0</td>\n",
       "      <td>1.0</td>\n",
       "      <td>0.0</td>\n",
       "      <td>0.0</td>\n",
       "      <td>0.666667</td>\n",
       "      <td>0.0</td>\n",
       "      <td>0.0</td>\n",
       "      <td>1.0</td>\n",
       "    </tr>\n",
       "    <tr>\n",
       "      <th>489</th>\n",
       "      <td>0.158059</td>\n",
       "      <td>0.2</td>\n",
       "      <td>0.000000</td>\n",
       "      <td>0.000000</td>\n",
       "      <td>1.0</td>\n",
       "      <td>0.0</td>\n",
       "      <td>0.0</td>\n",
       "      <td>0.0</td>\n",
       "      <td>0.0</td>\n",
       "      <td>0.000000</td>\n",
       "      <td>0.0</td>\n",
       "      <td>0.0</td>\n",
       "      <td>1.0</td>\n",
       "    </tr>\n",
       "    <tr>\n",
       "      <th>490</th>\n",
       "      <td>0.046948</td>\n",
       "      <td>0.4</td>\n",
       "      <td>0.000000</td>\n",
       "      <td>0.000000</td>\n",
       "      <td>0.0</td>\n",
       "      <td>0.0</td>\n",
       "      <td>0.0</td>\n",
       "      <td>0.0</td>\n",
       "      <td>0.0</td>\n",
       "      <td>0.000000</td>\n",
       "      <td>1.0</td>\n",
       "      <td>0.0</td>\n",
       "      <td>0.0</td>\n",
       "    </tr>\n",
       "    <tr>\n",
       "      <th>491</th>\n",
       "      <td>0.194053</td>\n",
       "      <td>0.4</td>\n",
       "      <td>0.000000</td>\n",
       "      <td>0.333333</td>\n",
       "      <td>1.0</td>\n",
       "      <td>0.0</td>\n",
       "      <td>0.0</td>\n",
       "      <td>0.0</td>\n",
       "      <td>0.0</td>\n",
       "      <td>0.000000</td>\n",
       "      <td>0.0</td>\n",
       "      <td>0.0</td>\n",
       "      <td>1.0</td>\n",
       "    </tr>\n",
       "  </tbody>\n",
       "</table>\n",
       "<p>492 rows × 13 columns</p>\n",
       "</div>"
      ],
      "text/plain": [
       "         area  bedrooms  bathrooms   stories  mainroad  guestroom  basement  \\\n",
       "0    0.752739       0.6   0.333333  0.666667       1.0        0.0       0.0   \n",
       "1    0.993740       0.6   1.000000  1.000000       1.0        0.0       0.0   \n",
       "2    0.765258       0.6   0.333333  0.333333       1.0        0.0       1.0   \n",
       "3    0.752739       0.6   0.000000  0.333333       1.0        1.0       1.0   \n",
       "4    0.765258       0.4   0.666667  0.000000       1.0        0.0       1.0   \n",
       "..        ...       ...        ...       ...       ...        ...       ...   \n",
       "487  0.059468       0.2   0.000000  0.000000       0.0        0.0       0.0   \n",
       "488  0.061033       0.2   0.000000  0.000000       1.0        0.0       1.0   \n",
       "489  0.158059       0.2   0.000000  0.000000       1.0        0.0       0.0   \n",
       "490  0.046948       0.4   0.000000  0.000000       0.0        0.0       0.0   \n",
       "491  0.194053       0.4   0.000000  0.333333       1.0        0.0       0.0   \n",
       "\n",
       "     hotwaterheating  airconditioning   parking  furnishingstatus_furnished  \\\n",
       "0                0.0              1.0  0.666667                         1.0   \n",
       "1                0.0              1.0  1.000000                         1.0   \n",
       "2                0.0              1.0  1.000000                         1.0   \n",
       "3                0.0              1.0  0.666667                         1.0   \n",
       "4                0.0              1.0  0.666667                         0.0   \n",
       "..               ...              ...       ...                         ...   \n",
       "487              0.0              0.0  0.333333                         0.0   \n",
       "488              0.0              0.0  0.666667                         0.0   \n",
       "489              0.0              0.0  0.000000                         0.0   \n",
       "490              0.0              0.0  0.000000                         1.0   \n",
       "491              0.0              0.0  0.000000                         0.0   \n",
       "\n",
       "     furnishingstatus_semi-furnished  furnishingstatus_unfurnished  \n",
       "0                                0.0                           0.0  \n",
       "1                                0.0                           0.0  \n",
       "2                                0.0                           0.0  \n",
       "3                                0.0                           0.0  \n",
       "4                                1.0                           0.0  \n",
       "..                               ...                           ...  \n",
       "487                              0.0                           1.0  \n",
       "488                              0.0                           1.0  \n",
       "489                              0.0                           1.0  \n",
       "490                              0.0                           0.0  \n",
       "491                              0.0                           1.0  \n",
       "\n",
       "[492 rows x 13 columns]"
      ]
     },
     "execution_count": 39,
     "metadata": {},
     "output_type": "execute_result"
    }
   ],
   "source": [
    "x = pd.DataFrame(x_scaled,columns=name)\n",
    "x"
   ]
  },
  {
   "cell_type": "markdown",
   "id": "06b00ff1",
   "metadata": {},
   "source": [
    "### 10. Splitting data into Training and Testing data"
   ]
  },
  {
   "cell_type": "code",
   "execution_count": 40,
   "id": "66f2c71b",
   "metadata": {},
   "outputs": [],
   "source": [
    "from sklearn.model_selection import train_test_split\n",
    "x_train,x_test,y_train,y_test = train_test_split(x,y,test_size=0.2,random_state=0)"
   ]
  },
  {
   "cell_type": "code",
   "execution_count": 41,
   "id": "13585f22",
   "metadata": {},
   "outputs": [
    {
     "data": {
      "text/html": [
       "<div>\n",
       "<style scoped>\n",
       "    .dataframe tbody tr th:only-of-type {\n",
       "        vertical-align: middle;\n",
       "    }\n",
       "\n",
       "    .dataframe tbody tr th {\n",
       "        vertical-align: top;\n",
       "    }\n",
       "\n",
       "    .dataframe thead th {\n",
       "        text-align: right;\n",
       "    }\n",
       "</style>\n",
       "<table border=\"1\" class=\"dataframe\">\n",
       "  <thead>\n",
       "    <tr style=\"text-align: right;\">\n",
       "      <th></th>\n",
       "      <th>area</th>\n",
       "      <th>bedrooms</th>\n",
       "      <th>bathrooms</th>\n",
       "      <th>stories</th>\n",
       "      <th>mainroad</th>\n",
       "      <th>guestroom</th>\n",
       "      <th>basement</th>\n",
       "      <th>hotwaterheating</th>\n",
       "      <th>airconditioning</th>\n",
       "      <th>parking</th>\n",
       "      <th>furnishingstatus_furnished</th>\n",
       "      <th>furnishingstatus_semi-furnished</th>\n",
       "      <th>furnishingstatus_unfurnished</th>\n",
       "    </tr>\n",
       "  </thead>\n",
       "  <tbody>\n",
       "    <tr>\n",
       "      <th>8</th>\n",
       "      <td>0.530516</td>\n",
       "      <td>0.6</td>\n",
       "      <td>0.666667</td>\n",
       "      <td>0.333333</td>\n",
       "      <td>1.0</td>\n",
       "      <td>1.0</td>\n",
       "      <td>1.0</td>\n",
       "      <td>1.0</td>\n",
       "      <td>0.0</td>\n",
       "      <td>0.666667</td>\n",
       "      <td>0.0</td>\n",
       "      <td>1.0</td>\n",
       "      <td>0.0</td>\n",
       "    </tr>\n",
       "    <tr>\n",
       "      <th>488</th>\n",
       "      <td>0.061033</td>\n",
       "      <td>0.2</td>\n",
       "      <td>0.000000</td>\n",
       "      <td>0.000000</td>\n",
       "      <td>1.0</td>\n",
       "      <td>0.0</td>\n",
       "      <td>1.0</td>\n",
       "      <td>0.0</td>\n",
       "      <td>0.0</td>\n",
       "      <td>0.666667</td>\n",
       "      <td>0.0</td>\n",
       "      <td>0.0</td>\n",
       "      <td>1.0</td>\n",
       "    </tr>\n",
       "    <tr>\n",
       "      <th>426</th>\n",
       "      <td>0.178404</td>\n",
       "      <td>0.4</td>\n",
       "      <td>0.000000</td>\n",
       "      <td>0.333333</td>\n",
       "      <td>1.0</td>\n",
       "      <td>0.0</td>\n",
       "      <td>0.0</td>\n",
       "      <td>0.0</td>\n",
       "      <td>0.0</td>\n",
       "      <td>0.000000</td>\n",
       "      <td>0.0</td>\n",
       "      <td>0.0</td>\n",
       "      <td>1.0</td>\n",
       "    </tr>\n",
       "    <tr>\n",
       "      <th>224</th>\n",
       "      <td>0.142410</td>\n",
       "      <td>0.4</td>\n",
       "      <td>0.000000</td>\n",
       "      <td>0.000000</td>\n",
       "      <td>1.0</td>\n",
       "      <td>0.0</td>\n",
       "      <td>0.0</td>\n",
       "      <td>0.0</td>\n",
       "      <td>0.0</td>\n",
       "      <td>0.000000</td>\n",
       "      <td>0.0</td>\n",
       "      <td>1.0</td>\n",
       "      <td>0.0</td>\n",
       "    </tr>\n",
       "    <tr>\n",
       "      <th>157</th>\n",
       "      <td>0.452269</td>\n",
       "      <td>0.4</td>\n",
       "      <td>0.333333</td>\n",
       "      <td>0.000000</td>\n",
       "      <td>1.0</td>\n",
       "      <td>0.0</td>\n",
       "      <td>1.0</td>\n",
       "      <td>0.0</td>\n",
       "      <td>0.0</td>\n",
       "      <td>0.000000</td>\n",
       "      <td>0.0</td>\n",
       "      <td>1.0</td>\n",
       "      <td>0.0</td>\n",
       "    </tr>\n",
       "  </tbody>\n",
       "</table>\n",
       "</div>"
      ],
      "text/plain": [
       "         area  bedrooms  bathrooms   stories  mainroad  guestroom  basement  \\\n",
       "8    0.530516       0.6   0.666667  0.333333       1.0        1.0       1.0   \n",
       "488  0.061033       0.2   0.000000  0.000000       1.0        0.0       1.0   \n",
       "426  0.178404       0.4   0.000000  0.333333       1.0        0.0       0.0   \n",
       "224  0.142410       0.4   0.000000  0.000000       1.0        0.0       0.0   \n",
       "157  0.452269       0.4   0.333333  0.000000       1.0        0.0       1.0   \n",
       "\n",
       "     hotwaterheating  airconditioning   parking  furnishingstatus_furnished  \\\n",
       "8                1.0              0.0  0.666667                         0.0   \n",
       "488              0.0              0.0  0.666667                         0.0   \n",
       "426              0.0              0.0  0.000000                         0.0   \n",
       "224              0.0              0.0  0.000000                         0.0   \n",
       "157              0.0              0.0  0.000000                         0.0   \n",
       "\n",
       "     furnishingstatus_semi-furnished  furnishingstatus_unfurnished  \n",
       "8                                1.0                           0.0  \n",
       "488                              0.0                           1.0  \n",
       "426                              0.0                           1.0  \n",
       "224                              1.0                           0.0  \n",
       "157                              1.0                           0.0  "
      ]
     },
     "execution_count": 41,
     "metadata": {},
     "output_type": "execute_result"
    }
   ],
   "source": [
    "x_train.head()"
   ]
  },
  {
   "cell_type": "code",
   "execution_count": 42,
   "id": "c6e5d46e",
   "metadata": {},
   "outputs": [
    {
     "data": {
      "text/html": [
       "<div>\n",
       "<style scoped>\n",
       "    .dataframe tbody tr th:only-of-type {\n",
       "        vertical-align: middle;\n",
       "    }\n",
       "\n",
       "    .dataframe tbody tr th {\n",
       "        vertical-align: top;\n",
       "    }\n",
       "\n",
       "    .dataframe thead th {\n",
       "        text-align: right;\n",
       "    }\n",
       "</style>\n",
       "<table border=\"1\" class=\"dataframe\">\n",
       "  <thead>\n",
       "    <tr style=\"text-align: right;\">\n",
       "      <th></th>\n",
       "      <th>area</th>\n",
       "      <th>bedrooms</th>\n",
       "      <th>bathrooms</th>\n",
       "      <th>stories</th>\n",
       "      <th>mainroad</th>\n",
       "      <th>guestroom</th>\n",
       "      <th>basement</th>\n",
       "      <th>hotwaterheating</th>\n",
       "      <th>airconditioning</th>\n",
       "      <th>parking</th>\n",
       "      <th>furnishingstatus_furnished</th>\n",
       "      <th>furnishingstatus_semi-furnished</th>\n",
       "      <th>furnishingstatus_unfurnished</th>\n",
       "    </tr>\n",
       "  </thead>\n",
       "  <tbody>\n",
       "    <tr>\n",
       "      <th>362</th>\n",
       "      <td>0.161189</td>\n",
       "      <td>0.2</td>\n",
       "      <td>0.000000</td>\n",
       "      <td>0.000000</td>\n",
       "      <td>1.0</td>\n",
       "      <td>0.0</td>\n",
       "      <td>0.0</td>\n",
       "      <td>0.0</td>\n",
       "      <td>0.0</td>\n",
       "      <td>0.333333</td>\n",
       "      <td>0.0</td>\n",
       "      <td>1.0</td>\n",
       "      <td>0.0</td>\n",
       "    </tr>\n",
       "    <tr>\n",
       "      <th>96</th>\n",
       "      <td>0.452269</td>\n",
       "      <td>0.4</td>\n",
       "      <td>0.333333</td>\n",
       "      <td>0.000000</td>\n",
       "      <td>1.0</td>\n",
       "      <td>1.0</td>\n",
       "      <td>1.0</td>\n",
       "      <td>0.0</td>\n",
       "      <td>0.0</td>\n",
       "      <td>0.666667</td>\n",
       "      <td>1.0</td>\n",
       "      <td>0.0</td>\n",
       "      <td>0.0</td>\n",
       "    </tr>\n",
       "    <tr>\n",
       "      <th>320</th>\n",
       "      <td>0.154930</td>\n",
       "      <td>0.2</td>\n",
       "      <td>0.000000</td>\n",
       "      <td>0.000000</td>\n",
       "      <td>1.0</td>\n",
       "      <td>0.0</td>\n",
       "      <td>0.0</td>\n",
       "      <td>0.0</td>\n",
       "      <td>0.0</td>\n",
       "      <td>0.000000</td>\n",
       "      <td>0.0</td>\n",
       "      <td>1.0</td>\n",
       "      <td>0.0</td>\n",
       "    </tr>\n",
       "    <tr>\n",
       "      <th>144</th>\n",
       "      <td>0.032394</td>\n",
       "      <td>0.6</td>\n",
       "      <td>0.333333</td>\n",
       "      <td>0.333333</td>\n",
       "      <td>0.0</td>\n",
       "      <td>1.0</td>\n",
       "      <td>1.0</td>\n",
       "      <td>0.0</td>\n",
       "      <td>0.0</td>\n",
       "      <td>0.333333</td>\n",
       "      <td>1.0</td>\n",
       "      <td>0.0</td>\n",
       "      <td>0.0</td>\n",
       "    </tr>\n",
       "    <tr>\n",
       "      <th>15</th>\n",
       "      <td>0.311424</td>\n",
       "      <td>0.4</td>\n",
       "      <td>0.333333</td>\n",
       "      <td>0.333333</td>\n",
       "      <td>1.0</td>\n",
       "      <td>1.0</td>\n",
       "      <td>0.0</td>\n",
       "      <td>0.0</td>\n",
       "      <td>1.0</td>\n",
       "      <td>0.666667</td>\n",
       "      <td>1.0</td>\n",
       "      <td>0.0</td>\n",
       "      <td>0.0</td>\n",
       "    </tr>\n",
       "  </tbody>\n",
       "</table>\n",
       "</div>"
      ],
      "text/plain": [
       "         area  bedrooms  bathrooms   stories  mainroad  guestroom  basement  \\\n",
       "362  0.161189       0.2   0.000000  0.000000       1.0        0.0       0.0   \n",
       "96   0.452269       0.4   0.333333  0.000000       1.0        1.0       1.0   \n",
       "320  0.154930       0.2   0.000000  0.000000       1.0        0.0       0.0   \n",
       "144  0.032394       0.6   0.333333  0.333333       0.0        1.0       1.0   \n",
       "15   0.311424       0.4   0.333333  0.333333       1.0        1.0       0.0   \n",
       "\n",
       "     hotwaterheating  airconditioning   parking  furnishingstatus_furnished  \\\n",
       "362              0.0              0.0  0.333333                         0.0   \n",
       "96               0.0              0.0  0.666667                         1.0   \n",
       "320              0.0              0.0  0.000000                         0.0   \n",
       "144              0.0              0.0  0.333333                         1.0   \n",
       "15               0.0              1.0  0.666667                         1.0   \n",
       "\n",
       "     furnishingstatus_semi-furnished  furnishingstatus_unfurnished  \n",
       "362                              1.0                           0.0  \n",
       "96                               0.0                           0.0  \n",
       "320                              1.0                           0.0  \n",
       "144                              0.0                           0.0  \n",
       "15                               0.0                           0.0  "
      ]
     },
     "execution_count": 42,
     "metadata": {},
     "output_type": "execute_result"
    }
   ],
   "source": [
    "x_test.head()"
   ]
  },
  {
   "cell_type": "code",
   "execution_count": 43,
   "id": "4da8a43a",
   "metadata": {},
   "outputs": [
    {
     "data": {
      "text/plain": [
       "11     9681000\n",
       "540    1820000\n",
       "471    3010000\n",
       "246    4550000\n",
       "170    5250000\n",
       "        ...   \n",
       "354    3780000\n",
       "209    4900000\n",
       "127    5880000\n",
       "50     7420000\n",
       "188    5075000\n",
       "Name: price, Length: 393, dtype: int64"
      ]
     },
     "execution_count": 43,
     "metadata": {},
     "output_type": "execute_result"
    }
   ],
   "source": [
    "y_train"
   ]
  },
  {
   "cell_type": "code",
   "execution_count": 44,
   "id": "eb3d91de",
   "metadata": {},
   "outputs": [
    {
     "data": {
      "text/plain": [
       "396    3500000\n",
       "104    6195000\n",
       "351    3780000\n",
       "157    5495000\n",
       "18     8890000\n",
       "        ...   \n",
       "442    3220000\n",
       "247    4550000\n",
       "214    4865000\n",
       "9      9800000\n",
       "299    4200000\n",
       "Name: price, Length: 99, dtype: int64"
      ]
     },
     "execution_count": 44,
     "metadata": {},
     "output_type": "execute_result"
    }
   ],
   "source": [
    "y_test"
   ]
  },
  {
   "cell_type": "markdown",
   "id": "e80ccc67",
   "metadata": {},
   "source": [
    "# MODEL 1 - MULTILINEAR REGRESSION"
   ]
  },
  {
   "cell_type": "code",
   "execution_count": 45,
   "id": "870f4fb1",
   "metadata": {},
   "outputs": [
    {
     "data": {
      "text/plain": [
       "LinearRegression()"
      ]
     },
     "execution_count": 45,
     "metadata": {},
     "output_type": "execute_result"
    }
   ],
   "source": [
    "# 11. Building the Model\n",
    "from sklearn.linear_model import LinearRegression\n",
    "model1=LinearRegression()\n",
    "model1"
   ]
  },
  {
   "cell_type": "code",
   "execution_count": 46,
   "id": "7055473d",
   "metadata": {},
   "outputs": [
    {
     "data": {
      "text/plain": [
       "LinearRegression()"
      ]
     },
     "execution_count": 46,
     "metadata": {},
     "output_type": "execute_result"
    }
   ],
   "source": [
    "# 12. Training the Model\n",
    "model1.fit(x_train,y_train)"
   ]
  },
  {
   "cell_type": "code",
   "execution_count": 47,
   "id": "5327554d",
   "metadata": {},
   "outputs": [
    {
     "data": {
      "text/plain": [
       "array([ 3328818.76048527,  5763895.7176806 ,  3081902.04922748,\n",
       "        4503608.02876151,  6421105.36629327,  2058972.50736273,\n",
       "        4984367.03059062,  2514102.0303344 ,  7710301.40816266,\n",
       "        2767980.93799451,  3097588.23335861,  3119207.21764157,\n",
       "        5386112.09601322,  4254840.23378505,  5421179.20407663,\n",
       "        3352268.1259543 ,  4851252.88912829,  4777511.33100125,\n",
       "        4135466.85407371,  3662855.856973  ,  3988968.03978978,\n",
       "        4475700.8914891 ,  3795491.88479888,  1879099.38795548,\n",
       "        2948114.31564679,  5951762.08625314,  6036259.35636536,\n",
       "        4173047.58761786,  7136145.37613913,  6250970.63661024,\n",
       "        3866649.2507309 ,  5924925.01142682,  3121759.74669283,\n",
       "        5447391.19354001,  4812819.24778435,  4803051.13513427,\n",
       "        3656103.88414531,  5457211.73407273,  2093457.58089213,\n",
       "        5765104.84552782,  7046474.23369589,  5445172.61030276,\n",
       "        3499056.59805479,  3743968.20354876,  3603757.3596415 ,\n",
       "        3268536.89459244,  2963693.59846905,  5794637.78379926,\n",
       "        5866442.13328873,  5746936.12487649,  5857244.45978014,\n",
       "        3940601.32894725,  4157505.93691058,  6362247.78582878,\n",
       "        6539448.19821126,  4650103.84503661,  3829773.41103846,\n",
       "       10710371.73840569,  2283063.38530379,  4387405.78055451,\n",
       "        3471596.7311487 ,  5369107.00307802,  5029349.70549483,\n",
       "        5760901.80385473,  4117931.60154501,  3172342.37789729,\n",
       "        5103991.72394619,  3851015.55968428,  2818989.07259735,\n",
       "        2201066.95802002,  2674284.54672564,  3229104.32211483,\n",
       "        4093010.40559483,  4083812.73208624,  3342927.6625247 ,\n",
       "        2638108.41525772,  2201549.34086609,  4968559.48171642,\n",
       "        8335778.65860652,  3367702.37033429,  5489246.77634093,\n",
       "        5327373.72770443,  3090310.05860679,  4670953.2379453 ,\n",
       "        5832261.34119973,  4534656.7214529 ,  7884396.5320023 ,\n",
       "        5494845.74279105,  5074088.10584069,  5906385.42684057,\n",
       "        5225718.13616348,  7309975.58165652,  3725866.41733494,\n",
       "        6186397.60247015,  3529616.28607638,  6584940.09660297,\n",
       "        3323206.010071  ,  7100735.28342157,  5047060.5925485 ])"
      ]
     },
     "execution_count": 47,
     "metadata": {},
     "output_type": "execute_result"
    }
   ],
   "source": [
    "# 13. Testing the Model\n",
    "pred1=model1.predict(x_test)\n",
    "pred1"
   ]
  },
  {
   "cell_type": "code",
   "execution_count": 48,
   "id": "412202ac",
   "metadata": {},
   "outputs": [
    {
     "name": "stdout",
     "output_type": "stream",
     "text": [
      "Mean Squared Error:  1217008374055.8647\n",
      "Mean Absolute Error:  830709.4613095429\n",
      "Root Mean Squared Error:  1103181.0250615557\n",
      "R Squared Error:  0.6542748617098755\n"
     ]
    }
   ],
   "source": [
    "# 14. Evaluating the Model\n",
    "from sklearn.metrics import mean_squared_error, r2_score, mean_absolute_error\n",
    "mse1=mean_squared_error(y_test,pred1)\n",
    "mae1=mean_absolute_error(y_test,pred1)\n",
    "rmse1=np.sqrt(mse1)\n",
    "rsquare1=r2_score(y_test,pred1)\n",
    "print(\"Mean Squared Error: \",mse1)\n",
    "print(\"Mean Absolute Error: \",mae1)\n",
    "print(\"Root Mean Squared Error: \",rmse1)\n",
    "print(\"R Squared Error: \",rsquare1)"
   ]
  },
  {
   "cell_type": "markdown",
   "id": "0bf419f9",
   "metadata": {},
   "source": [
    "# MODEL 2 - RIDGE REGRESSION"
   ]
  },
  {
   "cell_type": "code",
   "execution_count": 49,
   "id": "ebe3ec86",
   "metadata": {},
   "outputs": [
    {
     "data": {
      "text/plain": [
       "Ridge()"
      ]
     },
     "execution_count": 49,
     "metadata": {},
     "output_type": "execute_result"
    }
   ],
   "source": [
    "# 11. Building the Model\n",
    "from sklearn.linear_model import Ridge\n",
    "model2=Ridge()\n",
    "model2"
   ]
  },
  {
   "cell_type": "code",
   "execution_count": 50,
   "id": "74f9f2cc",
   "metadata": {},
   "outputs": [
    {
     "data": {
      "text/plain": [
       "Ridge()"
      ]
     },
     "execution_count": 50,
     "metadata": {},
     "output_type": "execute_result"
    }
   ],
   "source": [
    "# 12. Training the Model\n",
    "model2.fit(x_train,y_train)\n",
    "model2"
   ]
  },
  {
   "cell_type": "code",
   "execution_count": 51,
   "id": "5e751ce5",
   "metadata": {},
   "outputs": [
    {
     "data": {
      "text/plain": [
       "array([ 3360099.80443938,  5731500.59591719,  3107879.71152796,\n",
       "        4513719.6634283 ,  6407420.73760748,  2090884.21209372,\n",
       "        4957226.15212752,  2546629.92985781,  7629408.55588469,\n",
       "        2802261.11304925,  3136365.00863388,  3148589.87514598,\n",
       "        5323023.73994059,  4308739.66088491,  5363884.99813509,\n",
       "        3373598.49583199,  4857827.10420864,  4779289.76442721,\n",
       "        4185024.27618389,  3719882.33860411,  3987157.7193756 ,\n",
       "        4491163.60308308,  3842518.65374757,  1908258.48543537,\n",
       "        2987852.69635149,  5979409.23050079,  6081797.65273961,\n",
       "        4218175.3945718 ,  7080080.2658836 ,  6239756.69493376,\n",
       "        3866412.02086666,  5937425.18307513,  3155187.0300452 ,\n",
       "        5453220.96819767,  4827101.89705395,  4834753.58310763,\n",
       "        3694528.61816886,  5479234.48675427,  2129103.39077922,\n",
       "        5767020.79662496,  6973872.33467283,  5417676.71698012,\n",
       "        3514633.73010097,  3782628.82230772,  3625045.83278775,\n",
       "        3283202.15611529,  2970591.16283916,  5730606.06867023,\n",
       "        5803530.70468793,  5704084.97969409,  5809136.45775237,\n",
       "        3979899.82946819,  4121014.70698343,  6350853.38591425,\n",
       "        6462846.39022496,  4696655.17018637,  3875478.37704146,\n",
       "       10500371.65415368,  2340373.46641467,  4439020.29991564,\n",
       "        3492701.09139955,  5386547.43815237,  5037528.33669254,\n",
       "        5772486.74058616,  4129915.55957979,  3195033.01032677,\n",
       "        5096477.90108265,  3881256.3639521 ,  2831145.88476107,\n",
       "        2218524.22915913,  2691700.60668297,  3270885.64065921,\n",
       "        4138931.80485285,  4144537.55791729,  3393965.4078627 ,\n",
       "        2656839.28716345,  2256834.57235379,  4991267.66242493,\n",
       "        8280033.479789  ,  3407318.93295193,  5409723.24502951,\n",
       "        5353389.03265805,  3092605.78115749,  4653454.75861369,\n",
       "        5780379.19727548,  4498735.55016513,  7799291.5763544 ,\n",
       "        5539250.15534859,  5105229.83495519,  5949620.01097838,\n",
       "        5272920.84540906,  7330334.24670875,  3756994.37335682,\n",
       "        6141867.05439148,  3570365.34438066,  6578178.46138535,\n",
       "        3333430.0330371 ,  7057211.02888619,  5058916.7389424 ])"
      ]
     },
     "execution_count": 51,
     "metadata": {},
     "output_type": "execute_result"
    }
   ],
   "source": [
    "# 13. Testing the Model\n",
    "pred2=model2.predict(x_test)\n",
    "pred2"
   ]
  },
  {
   "cell_type": "code",
   "execution_count": 52,
   "id": "8f411816",
   "metadata": {},
   "outputs": [
    {
     "name": "stdout",
     "output_type": "stream",
     "text": [
      "Mean Squared Error:  1214412307043.8303\n",
      "Mean Absolute Error:  826642.0533119544\n",
      "Root Mean Squared Error:  1102003.7690697026\n",
      "R Squared Error:  0.6550123468791474\n"
     ]
    }
   ],
   "source": [
    "# 14. Evaluating the Model\n",
    "from sklearn.metrics import mean_squared_error, r2_score, mean_absolute_error\n",
    "mse2=mean_squared_error(y_test,pred2)\n",
    "mae2=mean_absolute_error(y_test,pred2)\n",
    "rmse2=np.sqrt(mse2)\n",
    "rsquare2=r2_score(y_test,pred2)\n",
    "print(\"Mean Squared Error: \",mse2)\n",
    "print(\"Mean Absolute Error: \",mae2)\n",
    "print(\"Root Mean Squared Error: \",rmse2)\n",
    "print(\"R Squared Error: \",rsquare2)"
   ]
  },
  {
   "cell_type": "markdown",
   "id": "a8ad958a",
   "metadata": {},
   "source": [
    "# MODEL 3 - LASSO REGRESSION"
   ]
  },
  {
   "cell_type": "code",
   "execution_count": 53,
   "id": "edb0bd37",
   "metadata": {},
   "outputs": [
    {
     "data": {
      "text/plain": [
       "Lasso()"
      ]
     },
     "execution_count": 53,
     "metadata": {},
     "output_type": "execute_result"
    }
   ],
   "source": [
    "# 11. Building the Model\n",
    "from sklearn.linear_model import Lasso\n",
    "model3=Lasso()\n",
    "model3"
   ]
  },
  {
   "cell_type": "code",
   "execution_count": 54,
   "id": "f44d0f67",
   "metadata": {},
   "outputs": [
    {
     "data": {
      "text/plain": [
       "Lasso()"
      ]
     },
     "execution_count": 54,
     "metadata": {},
     "output_type": "execute_result"
    }
   ],
   "source": [
    "# 12. Training the Model\n",
    "model3.fit(x_train,y_train)\n",
    "model3"
   ]
  },
  {
   "cell_type": "code",
   "execution_count": 55,
   "id": "c01e9a9d",
   "metadata": {},
   "outputs": [
    {
     "data": {
      "text/plain": [
       "array([ 3328827.34261459,  5763887.06917493,  3081912.22161613,\n",
       "        4503602.8190595 ,  6421097.24895035,  2058983.88046673,\n",
       "        4984361.81454399,  2514106.96047143,  7710294.02187369,\n",
       "        2767985.98411184,  3097595.87852427,  3119212.40183241,\n",
       "        5386101.65192548,  4254836.83458936,  5421174.64350597,\n",
       "        3352279.56957091,  4851255.62103755,  4777507.38855251,\n",
       "        4135469.36391448,  3662862.59966151,  3988978.61292032,\n",
       "        4475709.0740419 ,  3795496.80528129,  1879117.44596477,\n",
       "        2948124.38887408,  5951765.05580497,  6036259.02361685,\n",
       "        4173049.22528792,  7136141.80200454,  6250967.44769928,\n",
       "        3866651.89908531,  5924927.06324853,  3121769.58251482,\n",
       "        5447391.17602615,  4812819.32934906,  4803053.51249745,\n",
       "        3656109.55472094,  5457203.92438954,  2093474.09315559,\n",
       "        5765107.54845454,  7046464.61190222,  5445166.33164861,\n",
       "        3499061.26292155,  3743974.54454715,  3603765.56587911,\n",
       "        3268548.3136077 ,  2963704.35291718,  5794624.75971086,\n",
       "        5866415.85127918,  5746935.1396429 ,  5857213.39222811,\n",
       "        3940604.53709285,  4157515.05919732,  6362233.73012226,\n",
       "        6539444.77897433,  4650099.99252131,  3829757.05411894,\n",
       "       10710344.87265922,  2283080.85876263,  4387405.87247875,\n",
       "        3471599.93176733,  5369102.17786931,  5029329.4923611 ,\n",
       "        5760904.47126505,  4117920.52796477,  3172352.42663735,\n",
       "        5103994.84331363,  3851023.25612005,  2819000.02488322,\n",
       "        2201084.57584032,  2674295.69684927,  3229108.92345468,\n",
       "        4093011.33261318,  4083808.87356211,  3342930.24945849,\n",
       "        2638119.61484078,  2201561.73946273,  4968561.64311556,\n",
       "        8335763.2590655 ,  3367714.87419351,  5489239.78826689,\n",
       "        5327372.88244494,  3090320.63994689,  4670959.98512954,\n",
       "        5832253.72498161,  4534664.07542635,  7884389.72777051,\n",
       "        5494838.23000059,  5074083.6736608 ,  5906381.42368542,\n",
       "        5225714.70494421,  7309964.30189353,  3725873.20394829,\n",
       "        6186374.30522825,  3529624.9298692 ,  6584932.50816497,\n",
       "        3323215.84039803,  7100728.43184472,  5047059.52204994])"
      ]
     },
     "execution_count": 55,
     "metadata": {},
     "output_type": "execute_result"
    }
   ],
   "source": [
    "# 13. Testing the Model\n",
    "pred3=model3.predict(x_test)\n",
    "pred3"
   ]
  },
  {
   "cell_type": "code",
   "execution_count": 56,
   "id": "731f70c4",
   "metadata": {},
   "outputs": [
    {
     "name": "stdout",
     "output_type": "stream",
     "text": [
      "Mean Squared Error:  1217009489243.4714\n",
      "Mean Absolute Error:  830708.3912323378\n",
      "Root Mean Squared Error:  1103181.5305032402\n",
      "R Squared Error:  0.6542745449097631\n"
     ]
    }
   ],
   "source": [
    "# 14. Evaluating the Model\n",
    "from sklearn.metrics import mean_squared_error, r2_score, mean_absolute_error\n",
    "mse3=mean_squared_error(y_test,pred3)\n",
    "mae3=mean_absolute_error(y_test,pred3)\n",
    "rmse3=np.sqrt(mse3)\n",
    "rsquare3=r2_score(y_test,pred3)\n",
    "print(\"Mean Squared Error: \",mse3)\n",
    "print(\"Mean Absolute Error: \",mae3)\n",
    "print(\"Root Mean Squared Error: \",rmse3)\n",
    "print(\"R Squared Error: \",rsquare3)"
   ]
  },
  {
   "cell_type": "markdown",
   "id": "eb23522b",
   "metadata": {},
   "source": [
    "# MODEL 4 - DECISION TREE"
   ]
  },
  {
   "cell_type": "code",
   "execution_count": 57,
   "id": "2e4f74f6",
   "metadata": {},
   "outputs": [
    {
     "data": {
      "text/plain": [
       "DecisionTreeClassifier(criterion='entropy', random_state=0)"
      ]
     },
     "execution_count": 57,
     "metadata": {},
     "output_type": "execute_result"
    }
   ],
   "source": [
    "# 11. Building the Model\n",
    "from sklearn.tree import DecisionTreeClassifier\n",
    "model4=DecisionTreeClassifier(criterion='entropy',random_state=0)\n",
    "model4"
   ]
  },
  {
   "cell_type": "code",
   "execution_count": 58,
   "id": "4e0635cd",
   "metadata": {},
   "outputs": [
    {
     "data": {
      "text/plain": [
       "DecisionTreeClassifier(criterion='entropy', random_state=0)"
      ]
     },
     "execution_count": 58,
     "metadata": {},
     "output_type": "execute_result"
    }
   ],
   "source": [
    "# 12. Training the Model\n",
    "model4.fit(x_train,y_train)\n",
    "model4"
   ]
  },
  {
   "cell_type": "code",
   "execution_count": 59,
   "id": "e2371185",
   "metadata": {},
   "outputs": [
    {
     "data": {
      "text/plain": [
       "array([ 2345000,  3703000,  3710000,  4956000,  6405000,  2310000,\n",
       "        4095000,  2520000,  5250000,  3500000,  2135000,  4767000,\n",
       "        5740000,  3010000,  8400000,  3325000,  5565000,  2940000,\n",
       "        4585000,  2380000,  4270000,  3780000,  4403000,  2135000,\n",
       "        3465000,  5810000,  5565000,  3640000,  7560000,  7070000,\n",
       "        6230000,  4760000,  2380000,  5243000,  5950000,  4900000,\n",
       "        3500000,  6125000,  2450000,  4830000,  5005000,  4585000,\n",
       "        4200000,  4550000,  3605000,  4830000,  4200000,  5243000,\n",
       "        4095000,  4200000,  3360000,  3640000,  2730000,  3640000,\n",
       "        5880000,  4767000,  4193000,  7980000,  2940000,  3640000,\n",
       "        4060000,  5803000,  3010000,  4900000,  3360000,  3605000,\n",
       "        6125000,  3290000,  3430000,  2275000,  3710000,  4200000,\n",
       "        3010000,  3360000,  1960000,  2380000,  2940000,  4200000,\n",
       "        7245000,  4200000,  6230000,  4200000,  3325000,  3150000,\n",
       "        6090000,  3780000, 12215000,  5565000,  3780000,  5565000,\n",
       "        4620000, 11410000,  6300000,  5523000,  2450000,  6090000,\n",
       "        3220000,  5740000,  3773000], dtype=int64)"
      ]
     },
     "execution_count": 59,
     "metadata": {},
     "output_type": "execute_result"
    }
   ],
   "source": [
    "# 13. Testing the Model\n",
    "pred4=model4.predict(x_test)\n",
    "pred4"
   ]
  },
  {
   "cell_type": "code",
   "execution_count": 60,
   "id": "d3f87792",
   "metadata": {},
   "outputs": [
    {
     "name": "stdout",
     "output_type": "stream",
     "text": [
      "Mean Squared Error:  2691011449494.9497\n",
      "Mean Absolute Error:  1161858.5858585858\n",
      "Root Mean Squared Error:  1640430.2635269046\n",
      "R Squared Error:  0.23554321781992626\n"
     ]
    }
   ],
   "source": [
    "# 14. Evaluating the Model\n",
    "from sklearn.metrics import mean_squared_error, r2_score, mean_absolute_error\n",
    "mse4=mean_squared_error(y_test,pred4)\n",
    "mae4=mean_absolute_error(y_test,pred4)\n",
    "rmse4=np.sqrt(mse4)\n",
    "rsquare4=r2_score(y_test,pred4)\n",
    "print(\"Mean Squared Error: \",mse4)\n",
    "print(\"Mean Absolute Error: \",mae4)\n",
    "print(\"Root Mean Squared Error: \",rmse4)\n",
    "print(\"R Squared Error: \",rsquare4)"
   ]
  },
  {
   "cell_type": "markdown",
   "id": "9b4b9c27",
   "metadata": {},
   "source": [
    "# MODEL 5 - RANDOM FOREST"
   ]
  },
  {
   "cell_type": "code",
   "execution_count": 61,
   "id": "2892b8d6",
   "metadata": {},
   "outputs": [
    {
     "data": {
      "text/plain": [
       "RandomForestClassifier(criterion='entropy', n_estimators=10, random_state=0)"
      ]
     },
     "execution_count": 61,
     "metadata": {},
     "output_type": "execute_result"
    }
   ],
   "source": [
    "# 11. Building the Model\n",
    "from sklearn.ensemble import RandomForestClassifier\n",
    "model5=RandomForestClassifier(n_estimators=10,criterion='entropy',random_state=0)\n",
    "model5"
   ]
  },
  {
   "cell_type": "code",
   "execution_count": 62,
   "id": "e4eb7ab4",
   "metadata": {},
   "outputs": [
    {
     "data": {
      "text/plain": [
       "RandomForestClassifier(criterion='entropy', n_estimators=10, random_state=0)"
      ]
     },
     "execution_count": 62,
     "metadata": {},
     "output_type": "execute_result"
    }
   ],
   "source": [
    "# 12. Training the Model\n",
    "model5.fit(x_train,y_train)\n",
    "model5"
   ]
  },
  {
   "cell_type": "code",
   "execution_count": 63,
   "id": "4e3b9a76",
   "metadata": {},
   "outputs": [
    {
     "data": {
      "text/plain": [
       "array([ 2660000,  5530000,  3710000,  2590000,  7210000,  2520000,\n",
       "        5215000,  3465000,  8960000,  1960000,  2450000,  3500000,\n",
       "        5740000,  4767000,  7350000,  3710000,  6720000,  2940000,\n",
       "        4585000,  2520000,  3703000,  3605000,  4515000,  2135000,\n",
       "        2520000,  5810000,  4620000,  3640000,  5775000,  5495000,\n",
       "        3080000,  4200000,  3675000,  5425000,  3290000,  2653000,\n",
       "        4550000,  4970000,  2450000,  4550000,  8463000,  3850000,\n",
       "        3220000,  5040000,  3605000,  3290000,  3290000,  5600000,\n",
       "        5215000,  3640000,  4340000,  3640000,  3003000,  4060000,\n",
       "        5880000,  4382000,  3500000,  7980000,  3920000,  3640000,\n",
       "        4060000,  5229000,  3010000,  3640000,  3360000,  3605000,\n",
       "        6125000,  2275000,  3430000,  2408000,  1750000,  5110000,\n",
       "        3010000,  4060000,  2940000,  1750000,  1750000,  4123000,\n",
       "        5880000,  2520000,  5383000,  4620000,  2940000,  5145000,\n",
       "        6090000,  3465000,  4760000,  5565000,  4382000,  3395000,\n",
       "        4200000, 11410000,  3850000,  5005000,  2653000,  2852500,\n",
       "        3990000,  5740000,  3773000], dtype=int64)"
      ]
     },
     "execution_count": 63,
     "metadata": {},
     "output_type": "execute_result"
    }
   ],
   "source": [
    "# 13. Testing the Model\n",
    "pred5=model5.predict(x_test)\n",
    "pred5"
   ]
  },
  {
   "cell_type": "code",
   "execution_count": 64,
   "id": "c9479ce8",
   "metadata": {},
   "outputs": [
    {
     "name": "stdout",
     "output_type": "stream",
     "text": [
      "Mean Squared Error:  2133376229797.9797\n",
      "Mean Absolute Error:  1079378.7878787878\n",
      "Root Mean Squared Error:  1460608.171207453\n",
      "R Squared Error:  0.39395503942693944\n"
     ]
    }
   ],
   "source": [
    "# 14. Evaluating the Model\n",
    "from sklearn.metrics import mean_squared_error, r2_score, mean_absolute_error\n",
    "mse5=mean_squared_error(y_test,pred5)\n",
    "mae5=mean_absolute_error(y_test,pred5)\n",
    "rmse5=np.sqrt(mse5)\n",
    "rsquare5=r2_score(y_test,pred5)\n",
    "print(\"Mean Squared Error: \",mse5)\n",
    "print(\"Mean Absolute Error: \",mae5)\n",
    "print(\"Root Mean Squared Error: \",rmse5)\n",
    "print(\"R Squared Error: \",rsquare5)"
   ]
  },
  {
   "cell_type": "markdown",
   "id": "50edebd7",
   "metadata": {},
   "source": [
    "# MODEL 6 - K NEAREST NEIGHBOUR"
   ]
  },
  {
   "cell_type": "code",
   "execution_count": 65,
   "id": "6bf6d182",
   "metadata": {},
   "outputs": [
    {
     "data": {
      "text/plain": [
       "KNeighborsClassifier()"
      ]
     },
     "execution_count": 65,
     "metadata": {},
     "output_type": "execute_result"
    }
   ],
   "source": [
    "# 11. Building the Model\n",
    "from sklearn.neighbors import KNeighborsClassifier\n",
    "model6=KNeighborsClassifier()\n",
    "model6"
   ]
  },
  {
   "cell_type": "code",
   "execution_count": 66,
   "id": "cac584e2",
   "metadata": {},
   "outputs": [
    {
     "data": {
      "text/plain": [
       "KNeighborsClassifier()"
      ]
     },
     "execution_count": 66,
     "metadata": {},
     "output_type": "execute_result"
    }
   ],
   "source": [
    "# Training the Model\n",
    "model6.fit(x_train,y_train)\n",
    "model6"
   ]
  },
  {
   "cell_type": "code",
   "execution_count": 67,
   "id": "519b449d",
   "metadata": {},
   "outputs": [
    {
     "name": "stderr",
     "output_type": "stream",
     "text": [
      "C:\\ProgramData\\Anaconda3\\lib\\site-packages\\sklearn\\neighbors\\_classification.py:228: FutureWarning: Unlike other reduction functions (e.g. `skew`, `kurtosis`), the default behavior of `mode` typically preserves the axis it acts along. In SciPy 1.11.0, this behavior will change: the default value of `keepdims` will become False, the `axis` over which the statistic is taken will be eliminated, and the value None will no longer be accepted. Set `keepdims` to True or False to avoid this warning.\n",
      "  mode, _ = stats.mode(_y[neigh_ind, k], axis=1)\n"
     ]
    },
    {
     "data": {
      "text/plain": [
       "array([2660000, 3920000, 3010000, 3290000, 5950000, 2135000, 3010000,\n",
       "       2310000, 4830000, 2940000, 3640000, 1750000, 2653000, 4193000,\n",
       "       3640000, 2800000, 2653000, 2940000, 3500000, 2380000, 3500000,\n",
       "       4095000, 3920000, 2135000, 2135000, 5740000, 5460000, 3500000,\n",
       "       5740000, 3640000, 2275000, 4098500, 2233000, 4900000, 3290000,\n",
       "       4382000, 2520000, 4123000, 2135000, 6650000, 4900000, 3850000,\n",
       "       1750000, 3885000, 2660000, 1750000, 2660000, 4130000, 3080000,\n",
       "       3640000, 3920000, 3500000, 2730000, 4060000, 5740000, 4382000,\n",
       "       2100000, 7035000, 1750000, 3850000, 2660000, 4340000, 3080000,\n",
       "       3640000, 3150000, 3605000, 2275000, 3640000, 2660000, 2135000,\n",
       "       1750000, 2275000, 3010000, 3500000, 2485000, 1750000, 1750000,\n",
       "       4340000, 4620000, 2520000, 3640000, 4620000, 2660000, 2870000,\n",
       "       4235000, 2730000, 4473000, 3640000, 4382000, 3395000, 4025000,\n",
       "       5740000, 2660000, 4900000, 2653000, 4060000, 2275000, 5740000,\n",
       "       3500000], dtype=int64)"
      ]
     },
     "execution_count": 67,
     "metadata": {},
     "output_type": "execute_result"
    }
   ],
   "source": [
    "# Testing the Model\n",
    "pred6=model6.predict(x_test)\n",
    "pred6"
   ]
  },
  {
   "cell_type": "code",
   "execution_count": 68,
   "id": "c286887d",
   "metadata": {},
   "outputs": [
    {
     "name": "stdout",
     "output_type": "stream",
     "text": [
      "Mean Squared Error:  3502932664141.414\n",
      "Mean Absolute Error:  1432914.1414141415\n",
      "Root Mean Squared Error:  1871612.3167315966\n",
      "R Squared Error:  0.004894374148576297\n"
     ]
    }
   ],
   "source": [
    "# 14. Evaluating the Model\n",
    "from sklearn.metrics import mean_squared_error, r2_score, mean_absolute_error\n",
    "mse6=mean_squared_error(y_test,pred6)\n",
    "mae6=mean_absolute_error(y_test,pred6)\n",
    "rmse6=np.sqrt(mse6)\n",
    "rsquare6=r2_score(y_test,pred6)\n",
    "print(\"Mean Squared Error: \",mse6)\n",
    "print(\"Mean Absolute Error: \",mae6)\n",
    "print(\"Root Mean Squared Error: \",rmse6)\n",
    "print(\"R Squared Error: \",rsquare6)"
   ]
  },
  {
   "cell_type": "markdown",
   "id": "42003ab0",
   "metadata": {},
   "source": [
    "# MODEL 7 - NAIVE BAYES"
   ]
  },
  {
   "cell_type": "code",
   "execution_count": 69,
   "id": "3e839c7f",
   "metadata": {},
   "outputs": [
    {
     "data": {
      "text/plain": [
       "GaussianNB()"
      ]
     },
     "execution_count": 69,
     "metadata": {},
     "output_type": "execute_result"
    }
   ],
   "source": [
    "# 11. Building the Model\n",
    "from sklearn.naive_bayes import GaussianNB\n",
    "model7=GaussianNB()\n",
    "model7"
   ]
  },
  {
   "cell_type": "code",
   "execution_count": 70,
   "id": "4cc4a3a2",
   "metadata": {},
   "outputs": [
    {
     "data": {
      "text/plain": [
       "GaussianNB()"
      ]
     },
     "execution_count": 70,
     "metadata": {},
     "output_type": "execute_result"
    }
   ],
   "source": [
    "# 12. Training the Model\n",
    "model7.fit(x_train,y_train)\n",
    "model7"
   ]
  },
  {
   "cell_type": "code",
   "execution_count": 71,
   "id": "c3f4638e",
   "metadata": {},
   "outputs": [
    {
     "data": {
      "text/plain": [
       "array([4095000, 5950000, 3605000, 5215000, 6195000, 1750000, 3850000,\n",
       "       3465000, 6440000, 1750000, 2450000, 2100000, 6160000, 3850000,\n",
       "       4095000, 1750000, 2653000, 4410000, 3773000, 2380000, 3773000,\n",
       "       4095000, 4193000, 2520000, 3990000, 5145000, 7350000, 4165000,\n",
       "       7560000, 5145000, 6230000, 5565000, 3990000, 6160000, 4235000,\n",
       "       5145000, 1750000, 3850000, 2450000, 4270000, 5460000, 3850000,\n",
       "       3325000, 5460000, 4095000, 3325000, 3465000, 3850000, 4340000,\n",
       "       4095000, 3920000, 4165000, 3465000, 6300000, 5880000, 4095000,\n",
       "       2100000, 6300000, 3773000, 4165000, 4193000, 6020000, 3780000,\n",
       "       4095000, 4200000, 3605000, 5880000, 2450000, 3430000, 1750000,\n",
       "       3430000, 2800000, 4165000, 3773000, 3010000, 3430000, 1750000,\n",
       "       6020000, 7350000, 1750000, 3150000, 4620000, 3465000, 4095000,\n",
       "       6300000, 3465000, 5950000, 4095000, 4095000, 6020000, 5565000,\n",
       "       5565000, 3850000, 3920000, 4270000, 2730000, 2450000, 7350000,\n",
       "       3773000], dtype=int64)"
      ]
     },
     "execution_count": 71,
     "metadata": {},
     "output_type": "execute_result"
    }
   ],
   "source": [
    "# Testing the Model\n",
    "pred7=model7.predict(x_test)\n",
    "pred7"
   ]
  },
  {
   "cell_type": "code",
   "execution_count": 72,
   "id": "de9e7e66",
   "metadata": {},
   "outputs": [
    {
     "name": "stdout",
     "output_type": "stream",
     "text": [
      "Mean Squared Error:  2600759883838.384\n",
      "Mean Absolute Error:  1172111.111111111\n",
      "Root Mean Squared Error:  1612687.162421275\n",
      "R Squared Error:  0.2611816897340761\n"
     ]
    }
   ],
   "source": [
    "# 14. Evaluating the Model\n",
    "from sklearn.metrics import mean_squared_error, r2_score, mean_absolute_error\n",
    "mse7=mean_squared_error(y_test,pred7)\n",
    "mae7=mean_absolute_error(y_test,pred7)\n",
    "rmse7=np.sqrt(mse7)\n",
    "rsquare7=r2_score(y_test,pred7)\n",
    "print(\"Mean Squared Error: \",mse7)\n",
    "print(\"Mean Absolute Error: \",mae7)\n",
    "print(\"Root Mean Squared Error: \",rmse7)\n",
    "print(\"R Squared Error: \",rsquare7)"
   ]
  },
  {
   "cell_type": "markdown",
   "id": "bdde732b",
   "metadata": {},
   "source": [
    "# MODEL 8 - SUPPORT VECTOR MACHINE"
   ]
  },
  {
   "cell_type": "code",
   "execution_count": 73,
   "id": "2718e67c",
   "metadata": {},
   "outputs": [
    {
     "data": {
      "text/plain": [
       "SVC()"
      ]
     },
     "execution_count": 73,
     "metadata": {},
     "output_type": "execute_result"
    }
   ],
   "source": [
    "# 11. Building the Model\n",
    "from sklearn.svm import SVC\n",
    "model8 = SVC(kernel='rbf')\n",
    "model8"
   ]
  },
  {
   "cell_type": "code",
   "execution_count": 74,
   "id": "687ce871",
   "metadata": {},
   "outputs": [
    {
     "data": {
      "text/plain": [
       "SVC()"
      ]
     },
     "execution_count": 74,
     "metadata": {},
     "output_type": "execute_result"
    }
   ],
   "source": [
    "# 12. Training the Model\n",
    "model8.fit(x_train,y_train)\n",
    "model8"
   ]
  },
  {
   "cell_type": "code",
   "execution_count": 75,
   "id": "6444fd5c",
   "metadata": {},
   "outputs": [
    {
     "data": {
      "text/plain": [
       "array([4200000, 5950000, 4200000, 5950000, 5950000, 2940000, 4200000,\n",
       "       3500000, 5950000, 2940000, 2450000, 3500000, 4200000, 4200000,\n",
       "       4200000, 4270000, 3360000, 4200000, 5950000, 5950000, 5950000,\n",
       "       4200000, 4200000, 2940000, 4200000, 4200000, 5950000, 4900000,\n",
       "       4200000, 4900000, 4200000, 5950000, 4200000, 4900000, 5950000,\n",
       "       4200000, 5950000, 4900000, 2940000, 5950000, 4900000, 4900000,\n",
       "       3500000, 4900000, 4200000, 3500000, 3500000, 4900000, 4200000,\n",
       "       4200000, 3920000, 4900000, 3500000, 4900000, 5740000, 4200000,\n",
       "       3500000, 5950000, 2940000, 4900000, 4200000, 4900000, 4200000,\n",
       "       4900000, 3640000, 4200000, 4200000, 3640000, 3500000, 2940000,\n",
       "       3500000, 4200000, 4200000, 5950000, 4200000, 3500000, 2940000,\n",
       "       4900000, 7350000, 5950000, 3640000, 4200000, 3500000, 4200000,\n",
       "       4200000, 3500000, 5950000, 4200000, 4200000, 5950000, 5950000,\n",
       "       5950000, 4200000, 4900000, 3360000, 8400000, 4200000, 5740000,\n",
       "       5950000], dtype=int64)"
      ]
     },
     "execution_count": 75,
     "metadata": {},
     "output_type": "execute_result"
    }
   ],
   "source": [
    "# 13. Testing th Model\n",
    "pred8=model8.predict(x_test)\n",
    "pred8"
   ]
  },
  {
   "cell_type": "code",
   "execution_count": 76,
   "id": "9904c3c9",
   "metadata": {},
   "outputs": [
    {
     "name": "stdout",
     "output_type": "stream",
     "text": [
      "Mean Squared Error:  2591131631313.1313\n",
      "Mean Absolute Error:  1115686.8686868686\n",
      "Root Mean Squared Error:  1609699.2362901622\n",
      "R Squared Error:  0.26391686313694396\n"
     ]
    }
   ],
   "source": [
    "# 14. Evaluating the Model\n",
    "from sklearn.metrics import mean_squared_error, r2_score, mean_absolute_error\n",
    "mse8=mean_squared_error(y_test,pred8)\n",
    "mae8=mean_absolute_error(y_test,pred8)\n",
    "rmse8=np.sqrt(mse8)\n",
    "rsquare8=r2_score(y_test,pred8)\n",
    "print(\"Mean Squared Error: \",mse8)\n",
    "print(\"Mean Absolute Error: \",mae8)\n",
    "print(\"Root Mean Squared Error: \",rmse8)\n",
    "print(\"R Squared Error: \",rsquare8)"
   ]
  },
  {
   "cell_type": "markdown",
   "id": "49b74606",
   "metadata": {},
   "source": [
    "# FINDING THE BEST REGRESSION MODEL \n",
    "# WITH LOWEST R SQUARE ERROR VALUE"
   ]
  },
  {
   "cell_type": "code",
   "execution_count": 77,
   "id": "1ede93b8",
   "metadata": {},
   "outputs": [
    {
     "data": {
      "image/png": "[encoded data removed]",
      "text/plain": [
       "<Figure size 1500x500 with 1 Axes>"
      ]
     },
     "metadata": {},
     "output_type": "display_data"
    }
   ],
   "source": [
    "models = [\"Multilinear Regression\",\"Ridge Regression\",\"Lasso Regression\",\"Decision Tree\",\"Random Forest\",\"K Nearest Neighbour\",\"Naive Bayes\",\"Support Vector Machine\"]\n",
    "rsquare_values = [rsquare1,rsquare2,rsquare3,rsquare4,rsquare5,rsquare6,rsquare7,rsquare8]\n",
    "plt.figure(figsize = (15, 5))\n",
    "plt.bar(models,rsquare_values)\n",
    "plt.title('R SQUARE ERROR VALUES OF DIFFERENT REGRESSION MODELS')\n",
    "plt.xlabel('Regression Models')\n",
    "plt.ylabel('Value of R Square Error Values')\n",
    "plt.show()"
   ]
  },
  {
   "cell_type": "code",
   "execution_count": 78,
   "id": "515bb4b5",
   "metadata": {},
   "outputs": [],
   "source": [
    "# From the plot, it can be concluded that \"K Nearest Neighbour Model\" has the lowest R Square error values.\n",
    "# Hence, K Nearest Neighbour is the best Regression Model for House Price Preditcion."
   ]
  },
  {
   "cell_type": "code",
   "execution_count": 79,
   "id": "badd644b",
   "metadata": {},
   "outputs": [
    {
     "name": "stdout",
     "output_type": "stream",
     "text": [
      "The Best Regression Model for House Price Prediction is  K Nearest Neighbour with the least R Square Error Value of  0.004894374148576297\n"
     ]
    }
   ],
   "source": [
    "min_index = 0\n",
    "i = 0\n",
    "while (i<8):\n",
    "    if (rsquare_values[i]==min(rsquare_values)):\n",
    "        min_index = i\n",
    "        break\n",
    "    i += 1\n",
    "print(\"The Best Regression Model for House Price Prediction is \",models[min_index],\"with the least R Square Error Value of \",rsquare_values[min_index])"
   ]
  }
 ],
 "metadata": {
  "kernelspec": {
   "display_name": "Python 3 (ipykernel)",
   "language": "python",
   "name": "python3"
  },
  "language_info": {
   "codemirror_mode": {
    "name": "ipython",
    "version": 3
   },
   "file_extension": ".py",
   "mimetype": "text/x-python",
   "name": "python",
   "nbconvert_exporter": "python",
   "pygments_lexer": "ipython3",
   "version": "3.9.13"
  }
 },
 "nbformat": 4,
 "nbformat_minor": 5
}
